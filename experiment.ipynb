{
 "cells": [
  {
   "cell_type": "code",
   "execution_count": 1,
   "id": "21d70f21",
   "metadata": {
    "execution": {
     "iopub.execute_input": "2025-05-26T12:35:46.200324Z",
     "iopub.status.busy": "2025-05-26T12:35:46.200119Z",
     "iopub.status.idle": "2025-05-26T12:35:59.451759Z",
     "shell.execute_reply": "2025-05-26T12:35:59.450971Z"
    },
    "papermill": {
     "duration": 13.257903,
     "end_time": "2025-05-26T12:35:59.453159",
     "exception": false,
     "start_time": "2025-05-26T12:35:46.195256",
     "status": "completed"
    },
    "tags": []
   },
   "outputs": [],
   "source": [
    "from typing import Optional\n",
    "import torch\n",
    "from torch import nn\n",
    "from torch.nn import functional as F\n",
    "from torchvision import datasets\n",
    "from torchvision.transforms import v2 as transforms\n",
    "import numpy as np\n",
    "import wandb\n",
    "import time\n",
    "import matplotlib.pyplot as plt\n",
    "import pandas as pd"
   ]
  },
  {
   "cell_type": "code",
   "execution_count": 2,
   "id": "0e748769",
   "metadata": {
    "execution": {
     "iopub.execute_input": "2025-05-26T12:35:59.461621Z",
     "iopub.status.busy": "2025-05-26T12:35:59.460893Z",
     "iopub.status.idle": "2025-05-26T12:35:59.464678Z",
     "shell.execute_reply": "2025-05-26T12:35:59.463992Z"
    },
    "papermill": {
     "duration": 0.008794,
     "end_time": "2025-05-26T12:35:59.465720",
     "exception": false,
     "start_time": "2025-05-26T12:35:59.456926",
     "status": "completed"
    },
    "tags": []
   },
   "outputs": [],
   "source": [
    "generator = torch.Generator().manual_seed(42)\n",
    "np.random.seed(42)"
   ]
  },
  {
   "cell_type": "code",
   "execution_count": 3,
   "id": "e80f7284",
   "metadata": {
    "execution": {
     "iopub.execute_input": "2025-05-26T12:35:59.473513Z",
     "iopub.status.busy": "2025-05-26T12:35:59.472881Z",
     "iopub.status.idle": "2025-05-26T12:35:59.537844Z",
     "shell.execute_reply": "2025-05-26T12:35:59.537067Z"
    },
    "papermill": {
     "duration": 0.069876,
     "end_time": "2025-05-26T12:35:59.539018",
     "exception": false,
     "start_time": "2025-05-26T12:35:59.469142",
     "status": "completed"
    },
    "tags": []
   },
   "outputs": [
    {
     "name": "stdout",
     "output_type": "stream",
     "text": [
      "Using device: cuda\n"
     ]
    }
   ],
   "source": [
    "device = torch.device(\"cuda\" if torch.cuda.is_available() else \"cpu\")\n",
    "print(f\"Using device: {device}\")"
   ]
  },
  {
   "cell_type": "code",
   "execution_count": 4,
   "id": "a756e483",
   "metadata": {
    "execution": {
     "iopub.execute_input": "2025-05-26T12:35:59.547092Z",
     "iopub.status.busy": "2025-05-26T12:35:59.546653Z",
     "iopub.status.idle": "2025-05-26T12:35:59.557688Z",
     "shell.execute_reply": "2025-05-26T12:35:59.557007Z"
    },
    "papermill": {
     "duration": 0.016285,
     "end_time": "2025-05-26T12:35:59.558701",
     "exception": false,
     "start_time": "2025-05-26T12:35:59.542416",
     "status": "completed"
    },
    "tags": []
   },
   "outputs": [],
   "source": [
    "\n",
    "class GaussianPosterior(nn.Module):\n",
    "    LOG_SQRT_2PI = 0.5 * np.log(2 * np.pi)\n",
    "\n",
    "    def __init__(self, mu, rho):\n",
    "        super().__init__()\n",
    "\n",
    "        self.mu = nn.Parameter(mu)\n",
    "        self.rho = nn.Parameter(rho)\n",
    "\n",
    "        self.w = None\n",
    "        self.sigma = None\n",
    "\n",
    "        self.normal = torch.distributions.Normal(0, 1)\n",
    "\n",
    "    def sample(self):\n",
    "        epsilon = self.normal.sample(self.mu.size()).to(device)\n",
    "        self.sigma = torch.log1p(torch.exp(self.rho))\n",
    "        self.w = self.mu + self.sigma * epsilon\n",
    "\n",
    "        return self.w\n",
    "\n",
    "    def log_posterior(self):\n",
    "        assert self.w is not None\n",
    "        assert self.sigma is not None\n",
    "\n",
    "        log_posterior = -GaussianPosterior.LOG_SQRT_2PI - torch.log(self.sigma) - ((self.w - self.mu) ** 2) / (2 * self.sigma ** 2)\n",
    "\n",
    "        return log_posterior.sum()\n",
    "\n",
    "\n",
    "class ScaleMixturePrior(nn.Module):\n",
    "\n",
    "    def __init__(self, pi: float, sigma1: float, sigma2: float):\n",
    "        super().__init__()\n",
    "\n",
    "        self.pi = pi\n",
    "        self.normal1 = torch.distributions.Normal(0, sigma1)\n",
    "        self.normal2 = torch.distributions.Normal(0, sigma2)\n",
    "\n",
    "    def log_prior(self, w):\n",
    "        likelihood1 = torch.exp(self.normal1.log_prob(w))\n",
    "        likelihood2 = torch.exp(self.normal2.log_prob(w))\n",
    "\n",
    "        p_mixture = self.pi * likelihood1 + (1 - self.pi) * likelihood2\n",
    "        log_prob = torch.log(p_mixture).sum()\n",
    "\n",
    "        return log_prob\n",
    "\n",
    "\n",
    "class BayesianModule(nn.Module):\n",
    "    pass\n",
    "\n",
    "\n",
    "class BayesLinear(BayesianModule):\n",
    "\n",
    "    def __init__(\n",
    "        self,\n",
    "            in_features: int,\n",
    "            out_features: int,\n",
    "            prior_pi: float,\n",
    "            prior_sigma1: float,\n",
    "            prior_sigma2: float\n",
    "    ):\n",
    "        super().__init__()\n",
    "\n",
    "        w_mu = torch.empty(out_features, in_features).normal_(0.0, 0.01 * (np.log(in_features) + np.log(out_features)), generator=generator)\n",
    "        w_rho = torch.empty(out_features, in_features).normal_(-4.5, 0.001 * (np.log(in_features) + np.log(out_features)))\n",
    "\n",
    "        bias_mu = torch.empty(out_features).normal_(0.0, 0.01 * (np.log(in_features) + np.log(out_features)), generator=generator)\n",
    "        bias_rho = torch.empty(out_features).normal_(-4.5, 0.001 * (np.log(in_features) + np.log(out_features)))\n",
    "\n",
    "        self.w_posterior = GaussianPosterior(w_mu, w_rho)\n",
    "        self.b_posterior = GaussianPosterior(bias_mu, bias_rho)\n",
    "\n",
    "        self.w_prior = ScaleMixturePrior(prior_pi, prior_sigma1, prior_sigma2)\n",
    "        self.b_prior = ScaleMixturePrior(prior_pi, prior_sigma1, prior_sigma2)\n",
    "\n",
    "    def forward(self, x):\n",
    "        w = self.w_posterior.sample()\n",
    "        b = self.b_posterior.sample()\n",
    "\n",
    "        log_prior = self.w_prior.log_prior(w) + self.b_prior.log_prior(b)\n",
    "        log_posterior = self.w_posterior.log_posterior() + self.b_posterior.log_posterior()\n",
    "\n",
    "        self.kl_divergence = log_posterior - log_prior\n",
    "\n",
    "        return F.linear(x, w, b)\n",
    "\n",
    "\n",
    "def minibatch_weight(batch_idx: int, num_batches: int) -> float:\n",
    "    return 1 / num_batches"
   ]
  },
  {
   "cell_type": "markdown",
   "id": "d1fb0748",
   "metadata": {
    "papermill": {
     "duration": 0.003058,
     "end_time": "2025-05-26T12:35:59.564966",
     "exception": false,
     "start_time": "2025-05-26T12:35:59.561908",
     "status": "completed"
    },
    "tags": []
   },
   "source": [
    "# MNIST classification"
   ]
  },
  {
   "cell_type": "code",
   "execution_count": 5,
   "id": "ff439a12",
   "metadata": {
    "execution": {
     "iopub.execute_input": "2025-05-26T12:35:59.572061Z",
     "iopub.status.busy": "2025-05-26T12:35:59.571838Z",
     "iopub.status.idle": "2025-05-26T12:35:59.577745Z",
     "shell.execute_reply": "2025-05-26T12:35:59.577060Z"
    },
    "papermill": {
     "duration": 0.010789,
     "end_time": "2025-05-26T12:35:59.578887",
     "exception": false,
     "start_time": "2025-05-26T12:35:59.568098",
     "status": "completed"
    },
    "tags": []
   },
   "outputs": [],
   "source": [
    "class MNISTModel(nn.Module):\n",
    "\n",
    "    def __init__(self, in_features=28 * 28, out_features=10, prior_sigma_1=0.1, prior_sigma_2=0.4, prior_pi=1):\n",
    "        super().__init__()\n",
    "\n",
    "        self.layers = nn.Sequential(\n",
    "            BayesLinear(\n",
    "                in_features,\n",
    "                in_features,\n",
    "                prior_pi,\n",
    "                prior_sigma_1,\n",
    "                prior_sigma_2\n",
    "            ),\n",
    "            nn.ReLU(),\n",
    "            BayesLinear(\n",
    "                in_features,\n",
    "                in_features,\n",
    "                prior_pi,\n",
    "                prior_sigma_1,\n",
    "                prior_sigma_2\n",
    "            ),\n",
    "            nn.ReLU(),\n",
    "            BayesLinear(\n",
    "                in_features,\n",
    "                out_features,\n",
    "                prior_pi,\n",
    "                prior_sigma_1,\n",
    "                prior_sigma_2,\n",
    "            ),\n",
    "            nn.Softmax(dim=1),\n",
    "        )\n",
    "\n",
    "    def forward(self, x):\n",
    "        x = self.layers(x)\n",
    "        # print(x)\n",
    "        return x\n",
    "\n",
    "    @property\n",
    "    def kl_divergence(self):\n",
    "        kl = 0\n",
    "        for module in self.modules():\n",
    "            if isinstance(module, BayesianModule):\n",
    "                kl += module.kl_divergence\n",
    "\n",
    "        return kl\n",
    "\n",
    "    def sample_elbo(self, inputs, labels, criterion, num_samples, complexity_cost_weight=1):\n",
    "        loss = 0\n",
    "        for _ in range(num_samples):\n",
    "            outputs = self(inputs)\n",
    "            contr1 = criterion(outputs, labels)\n",
    "            contr2 = self.kl_divergence * complexity_cost_weight\n",
    "            # print(f\"contr1: {contr1}, contr2: {contr2}\")\n",
    "            loss += contr1 + contr2\n",
    "        return loss / num_samples"
   ]
  },
  {
   "cell_type": "code",
   "execution_count": 6,
   "id": "79438af3",
   "metadata": {
    "execution": {
     "iopub.execute_input": "2025-05-26T12:35:59.586716Z",
     "iopub.status.busy": "2025-05-26T12:35:59.586175Z",
     "iopub.status.idle": "2025-05-26T12:35:59.595100Z",
     "shell.execute_reply": "2025-05-26T12:35:59.594408Z"
    },
    "papermill": {
     "duration": 0.013945,
     "end_time": "2025-05-26T12:35:59.596211",
     "exception": false,
     "start_time": "2025-05-26T12:35:59.582266",
     "status": "completed"
    },
    "tags": []
   },
   "outputs": [],
   "source": [
    "def train_one_epoch(model, train_loader, optimizer, criterion, num_samples=1):\n",
    "    model.train()\n",
    "\n",
    "    total_loss = 0\n",
    "\n",
    "    for batch_idx, (data, target) in enumerate(train_loader):\n",
    "        data, target = data.to(device), target.to(device)\n",
    "\n",
    "        optimizer.zero_grad()\n",
    "\n",
    "        kl_weight = minibatch_weight(batch_idx, len(train_loader))\n",
    "\n",
    "        loss = model.sample_elbo(data, target, criterion, num_samples, kl_weight)\n",
    "\n",
    "        loss.backward()\n",
    "        optimizer.step()\n",
    "\n",
    "        total_loss += loss.item()\n",
    "\n",
    "    return total_loss / len(train_loader)\n",
    "\n",
    "\n",
    "def evaluate(model, val_loader, criterion):\n",
    "    model.eval()\n",
    "\n",
    "    total_loss = 0\n",
    "    correct = 0\n",
    "\n",
    "    with torch.no_grad():\n",
    "        for batch_idx, (data, target) in enumerate(val_loader):\n",
    "            data, target = data.to(device), target.to(device)\n",
    "\n",
    "            output = model(data)\n",
    "\n",
    "            preds = torch.argmax(output, 1)\n",
    "            correct += (preds == target).sum().item()\n",
    "\n",
    "            loss = (\n",
    "                criterion(output, target) + model.kl_divergence * minibatch_weight(batch_idx, len(val_loader))\n",
    "            )\n",
    "            total_loss += loss.item()\n",
    "\n",
    "    total = len(val_loader.dataset)\n",
    "    return total_loss / total, (total - correct) / total\n",
    "\n",
    "\n",
    "def test(model, test_loader):\n",
    "    model.eval()\n",
    "\n",
    "    correct = 0\n",
    "\n",
    "    with torch.no_grad():\n",
    "        for data, target in test_loader:\n",
    "            data, target = data.to(device), target.to(device)\n",
    "\n",
    "            output = model(data)\n",
    "\n",
    "            preds = torch.argmax(output, 1)\n",
    "            correct += (preds == target).sum().item()\n",
    "\n",
    "    total = len(test_loader.dataset)\n",
    "    error = (total - correct) / total\n",
    "\n",
    "    # print(f\"Correct: {correct}/{total} ({correct / total:.2%})\")\n",
    "    return error\n",
    "\n",
    "\n",
    "def train(model, train_loader, val_loader, test_loader, optimizer, criterion, num_epochs, num_samples, use_wandb=False):\n",
    "    for epoch in range(num_epochs):\n",
    "        now = time.time()\n",
    "\n",
    "        train_loss = train_one_epoch(model, train_loader, optimizer, criterion, num_samples)\n",
    "        val_loss, val_error = evaluate(model, val_loader, criterion)\n",
    "        test_error = test(model, test_loader)\n",
    "\n",
    "        elapsed = time.time() - now\n",
    "\n",
    "        if use_wandb:\n",
    "            wandb.log({\n",
    "                \"epoch\": epoch,\n",
    "                \"train_loss\": train_loss,\n",
    "                \"val_loss\": val_loss,\n",
    "                \"val_error\": val_error,\n",
    "                \"test_error\": test_error\n",
    "            })\n",
    "\n",
    "        print(f\"Epoch {epoch + 1}/{num_epochs}, Train Loss: {train_loss:.4f}, Val Loss: {val_loss:.4f}, Val Error: {val_error:.2%}, Test Error: {test_error:.2%}, Time: {elapsed:.2f}s\")"
   ]
  },
  {
   "cell_type": "code",
   "execution_count": 7,
   "id": "a273b065",
   "metadata": {
    "execution": {
     "iopub.execute_input": "2025-05-26T12:35:59.603593Z",
     "iopub.status.busy": "2025-05-26T12:35:59.603079Z",
     "iopub.status.idle": "2025-05-26T12:35:59.607491Z",
     "shell.execute_reply": "2025-05-26T12:35:59.607010Z"
    },
    "papermill": {
     "duration": 0.009151,
     "end_time": "2025-05-26T12:35:59.608549",
     "exception": false,
     "start_time": "2025-05-26T12:35:59.599398",
     "status": "completed"
    },
    "tags": []
   },
   "outputs": [],
   "source": [
    "def train_mnist(train_loader, val_loader, test_loader, epochs, lr, num_samples, pi, minus_log_sigma1, minus_log_sigma2, use_wandb=False):\n",
    "    sigma1 = np.exp(-minus_log_sigma1)\n",
    "    sigma2 = np.exp(-minus_log_sigma2)\n",
    "\n",
    "    model = MNISTModel(prior_sigma_1=sigma1, prior_sigma_2=sigma2, prior_pi=pi)\n",
    "    model.to(device)\n",
    "\n",
    "    optimizer = torch.optim.Adam(model.parameters(), lr=lr)\n",
    "    criterion = nn.CrossEntropyLoss(reduction='sum')\n",
    "\n",
    "    if use_wandb:\n",
    "        run = wandb.init(project=\"asi-paper\", name=\"mnist\")\n",
    "\n",
    "    train(model, train_loader, val_loader, test_loader, optimizer, criterion, epochs, num_samples, use_wandb=use_wandb)\n",
    "\n",
    "    if use_wandb:\n",
    "        run.finish()\n",
    "\n",
    "    return model"
   ]
  },
  {
   "cell_type": "code",
   "execution_count": 8,
   "id": "dbab42a8",
   "metadata": {
    "execution": {
     "iopub.execute_input": "2025-05-26T12:35:59.615836Z",
     "iopub.status.busy": "2025-05-26T12:35:59.615620Z",
     "iopub.status.idle": "2025-05-26T12:36:01.216342Z",
     "shell.execute_reply": "2025-05-26T12:36:01.215478Z"
    },
    "papermill": {
     "duration": 1.605725,
     "end_time": "2025-05-26T12:36:01.217586",
     "exception": false,
     "start_time": "2025-05-26T12:35:59.611861",
     "status": "completed"
    },
    "tags": []
   },
   "outputs": [
    {
     "name": "stderr",
     "output_type": "stream",
     "text": [
      "100%|██████████| 9.91M/9.91M [00:00<00:00, 56.6MB/s]\n",
      "100%|██████████| 28.9k/28.9k [00:00<00:00, 1.64MB/s]\n",
      "100%|██████████| 1.65M/1.65M [00:00<00:00, 14.5MB/s]\n",
      "100%|██████████| 4.54k/4.54k [00:00<00:00, 8.78MB/s]\n"
     ]
    }
   ],
   "source": [
    "batch_size = 128\n",
    "transform = transforms.Compose([\n",
    "    transforms.ToImage(),\n",
    "    transforms.ToDtype(torch.float32, scale=True),\n",
    "    transforms.Lambda(lambda x: x.view(28 * 28) / 126.0),\n",
    "])\n",
    "\n",
    "\n",
    "mnist_dataset = datasets.MNIST(\n",
    "    root=\"./mnist\",\n",
    "    download=True,\n",
    "    transform=transform,\n",
    "    train=True\n",
    ")\n",
    "# transformed_data = transform(mnist_dataset.data).to(device)\n",
    "# y = mnist_dataset.targets.to(device)\n",
    "# mnist_dataset = torch.utils.data.TensorDataset(transformed_data, y)\n",
    "\n",
    "test_set = datasets.MNIST(\n",
    "    root=\"./mnist\",\n",
    "    download=True,\n",
    "    transform=transform,\n",
    "    train=False\n",
    ")\n",
    "\n",
    "\n",
    "train_dataset, val_dataset = torch.utils.data.random_split(mnist_dataset, [50_000, 10_000], generator=generator)\n",
    "\n",
    "kwargs = {\n",
    "    'batch_size': batch_size,\n",
    "    'num_workers': 1,\n",
    "    'generator': generator,\n",
    "    'pin_memory': True,\n",
    "}\n",
    "\n",
    "train_loader = torch.utils.data.DataLoader(\n",
    "    train_dataset,\n",
    "    shuffle=True,\n",
    "    **kwargs\n",
    ")\n",
    "val_loader = torch.utils.data.DataLoader(\n",
    "    val_dataset,\n",
    "    shuffle=False,\n",
    "    **kwargs\n",
    ")\n",
    "test_loader = torch.utils.data.DataLoader(\n",
    "    test_set,\n",
    "    shuffle=False,\n",
    "    **kwargs\n",
    ")"
   ]
  },
  {
   "cell_type": "markdown",
   "id": "85a95c2b",
   "metadata": {
    "papermill": {
     "duration": 0.003903,
     "end_time": "2025-05-26T12:36:01.225679",
     "exception": false,
     "start_time": "2025-05-26T12:36:01.221776",
     "status": "completed"
    },
    "tags": []
   },
   "source": [
    "## Grid search with wandb\n",
    "Uncomment the code below to run a grid search and log the results to wandb."
   ]
  },
  {
   "cell_type": "code",
   "execution_count": 9,
   "id": "b947162f",
   "metadata": {
    "execution": {
     "iopub.execute_input": "2025-05-26T12:36:01.234073Z",
     "iopub.status.busy": "2025-05-26T12:36:01.233869Z",
     "iopub.status.idle": "2025-05-26T12:36:01.237403Z",
     "shell.execute_reply": "2025-05-26T12:36:01.236915Z"
    },
    "papermill": {
     "duration": 0.009038,
     "end_time": "2025-05-26T12:36:01.238444",
     "exception": false,
     "start_time": "2025-05-26T12:36:01.229406",
     "status": "completed"
    },
    "tags": []
   },
   "outputs": [],
   "source": [
    "# from kaggle_secrets import UserSecretsClient\n",
    "# user_secrets = UserSecretsClient()\n",
    "# key = user_secrets.get_secret('wand-api-key-asi')\n",
    "# sweep_continue = user_secrets.get_secret('asi-mnist-sweep-id')\n",
    "\n",
    "# wandb.login(key=key)\n",
    "\n",
    "\n",
    "# def train_wrapper():\n",
    "#     with wandb.init(project=\"asi-paper\") as run:\n",
    "#         model = train_mnist(\n",
    "#             train_loader,\n",
    "#             val_loader,\n",
    "#             test_loader,\n",
    "#             epochs=10,\n",
    "#             lr=run.config.lr,\n",
    "#             num_samples=run.config.sample_nbr,\n",
    "#             pi=run.config.pi,\n",
    "#             minus_log_sigma1=run.config.min_log_sigma1,\n",
    "#             minus_log_sigma2=run.config.min_log_sigma2,\n",
    "#             use_wandb=True\n",
    "#         )\n",
    "\n",
    "#     return model\n",
    "\n",
    "\n",
    "# # sweep_configuration = {\n",
    "# #     \"method\": \"grid\",\n",
    "# #     \"metric\": {\"goal\": \"minimize\", \"name\": \"val_error\"},\n",
    "# #     'name': \"sweep-mnist\",\n",
    "# #     \"parameters\": {\n",
    "# #         \"lr\": {'values': [1e-3, 1e-4, 1e-5]},\n",
    "# #         \"sample_nbr\": {'values': [1, 2, 3, 5]},\n",
    "# #         \"pi\": {'values': [0.25, 0.5, 0.75]},\n",
    "# #         \"min_log_sigma1\": {'values': [0, 1, 2]},\n",
    "# #         \"min_log_sigma2\": {'values': [6, 7, 8]},\n",
    "# #     },\n",
    "# # }\n",
    "\n",
    "# # sweep_id = wandb.sweep(sweep=sweep_configuration, project=\"asi-paper\")\n",
    "# # print(f\"Sweep ID: {sweep_id}\")\n",
    "# wandb.agent(sweep_continue, function=train_wrapper)"
   ]
  },
  {
   "cell_type": "markdown",
   "id": "7a946f59",
   "metadata": {
    "papermill": {
     "duration": 0.003661,
     "end_time": "2025-05-26T12:36:01.245943",
     "exception": false,
     "start_time": "2025-05-26T12:36:01.242282",
     "status": "completed"
    },
    "tags": []
   },
   "source": [
    "## Manual training\n",
    "Uncomment the code below to train the model with specified hyperparameters and save it."
   ]
  },
  {
   "cell_type": "code",
   "execution_count": 10,
   "id": "766baab0",
   "metadata": {
    "execution": {
     "iopub.execute_input": "2025-05-26T12:36:01.254299Z",
     "iopub.status.busy": "2025-05-26T12:36:01.253798Z",
     "iopub.status.idle": "2025-05-26T13:05:41.981229Z",
     "shell.execute_reply": "2025-05-26T13:05:41.980616Z"
    },
    "papermill": {
     "duration": 1780.732766,
     "end_time": "2025-05-26T13:05:41.982390",
     "exception": false,
     "start_time": "2025-05-26T12:36:01.249624",
     "status": "completed"
    },
    "tags": []
   },
   "outputs": [
    {
     "name": "stderr",
     "output_type": "stream",
     "text": [
      "\u001b[34m\u001b[1mwandb\u001b[0m: Using wandb-core as the SDK backend.  Please refer to https://wandb.me/wandb-core for more information.\n",
      "\u001b[34m\u001b[1mwandb\u001b[0m: \u001b[33mWARNING\u001b[0m If you're specifying your api key in code, ensure this code is not shared publicly.\n",
      "\u001b[34m\u001b[1mwandb\u001b[0m: \u001b[33mWARNING\u001b[0m Consider setting the WANDB_API_KEY environment variable, or running `wandb login` from the command line.\n",
      "\u001b[34m\u001b[1mwandb\u001b[0m: No netrc file found, creating one.\n",
      "\u001b[34m\u001b[1mwandb\u001b[0m: Appending key for api.wandb.ai to your netrc file: /root/.netrc\n",
      "\u001b[34m\u001b[1mwandb\u001b[0m: Currently logged in as: \u001b[33mmatteo-ghia\u001b[0m (\u001b[33mmatteo-ghia-2001\u001b[0m) to \u001b[32mhttps://api.wandb.ai\u001b[0m. Use \u001b[1m`wandb login --relogin`\u001b[0m to force relogin\n",
      "\u001b[34m\u001b[1mwandb\u001b[0m: Tracking run with wandb version 0.19.9\n",
      "\u001b[34m\u001b[1mwandb\u001b[0m: Run data is saved locally in \u001b[35m\u001b[1m/kaggle/working/wandb/run-20250526_123602-z72uirgn\u001b[0m\n",
      "\u001b[34m\u001b[1mwandb\u001b[0m: Run \u001b[1m`wandb offline`\u001b[0m to turn off syncing.\n",
      "\u001b[34m\u001b[1mwandb\u001b[0m: Syncing run \u001b[33mmnist\u001b[0m\n",
      "\u001b[34m\u001b[1mwandb\u001b[0m: ⭐️ View project at \u001b[34m\u001b[4mhttps://wandb.ai/matteo-ghia-2001/asi-paper\u001b[0m\n",
      "\u001b[34m\u001b[1mwandb\u001b[0m: 🚀 View run at \u001b[34m\u001b[4mhttps://wandb.ai/matteo-ghia-2001/asi-paper/runs/z72uirgn\u001b[0m\n"
     ]
    },
    {
     "name": "stdout",
     "output_type": "stream",
     "text": [
      "Epoch 1/50, Train Loss: 10930.5677, Val Loss: 352.5275, Val Error: 19.18%, Test Error: 18.18%, Time: 37.12s\n",
      "Epoch 2/50, Train Loss: 8594.3452, Val Loss: 308.3286, Val Error: 14.00%, Test Error: 13.26%, Time: 37.44s\n",
      "Epoch 3/50, Train Loss: 7511.6364, Val Loss: 265.8096, Val Error: 10.87%, Test Error: 9.96%, Time: 34.67s\n",
      "Epoch 4/50, Train Loss: 6417.7418, Val Loss: 223.9358, Val Error: 10.64%, Test Error: 9.69%, Time: 34.44s\n",
      "Epoch 5/50, Train Loss: 5432.5236, Val Loss: 189.9164, Val Error: 10.78%, Test Error: 9.85%, Time: 35.33s\n",
      "Epoch 6/50, Train Loss: 4702.2597, Val Loss: 166.8795, Val Error: 10.21%, Test Error: 9.34%, Time: 38.94s\n",
      "Epoch 7/50, Train Loss: 4233.7408, Val Loss: 152.7545, Val Error: 10.60%, Test Error: 10.03%, Time: 35.01s\n",
      "Epoch 8/50, Train Loss: 3950.6225, Val Loss: 144.2501, Val Error: 10.68%, Test Error: 9.32%, Time: 34.33s\n",
      "Epoch 9/50, Train Loss: 3777.3861, Val Loss: 138.9121, Val Error: 10.38%, Test Error: 9.14%, Time: 36.68s\n",
      "Epoch 10/50, Train Loss: 3664.4218, Val Loss: 135.2624, Val Error: 10.59%, Test Error: 9.18%, Time: 36.26s\n",
      "Epoch 11/50, Train Loss: 3584.0840, Val Loss: 132.5594, Val Error: 10.58%, Test Error: 9.61%, Time: 34.47s\n",
      "Epoch 12/50, Train Loss: 3522.1999, Val Loss: 130.3585, Val Error: 10.15%, Test Error: 9.63%, Time: 33.61s\n",
      "Epoch 13/50, Train Loss: 3470.4225, Val Loss: 128.4922, Val Error: 10.22%, Test Error: 9.44%, Time: 36.21s\n",
      "Epoch 14/50, Train Loss: 3424.4682, Val Loss: 126.7392, Val Error: 10.00%, Test Error: 9.50%, Time: 36.44s\n",
      "Epoch 15/50, Train Loss: 3382.2027, Val Loss: 125.1894, Val Error: 10.50%, Test Error: 9.43%, Time: 33.73s\n",
      "Epoch 16/50, Train Loss: 3342.0163, Val Loss: 123.6094, Val Error: 10.20%, Test Error: 9.64%, Time: 35.49s\n",
      "Epoch 17/50, Train Loss: 3303.0046, Val Loss: 122.1109, Val Error: 10.31%, Test Error: 9.59%, Time: 37.02s\n",
      "Epoch 18/50, Train Loss: 3264.6581, Val Loss: 120.6041, Val Error: 10.30%, Test Error: 9.28%, Time: 34.14s\n",
      "Epoch 19/50, Train Loss: 3227.0742, Val Loss: 119.1429, Val Error: 10.42%, Test Error: 9.38%, Time: 36.45s\n",
      "Epoch 20/50, Train Loss: 3189.7427, Val Loss: 117.6920, Val Error: 10.49%, Test Error: 9.42%, Time: 36.09s\n",
      "Epoch 21/50, Train Loss: 3152.8389, Val Loss: 116.2542, Val Error: 10.47%, Test Error: 9.92%, Time: 35.47s\n",
      "Epoch 22/50, Train Loss: 3116.4357, Val Loss: 114.8384, Val Error: 10.56%, Test Error: 9.75%, Time: 35.93s\n",
      "Epoch 23/50, Train Loss: 3080.8144, Val Loss: 113.4854, Val Error: 10.78%, Test Error: 10.02%, Time: 35.21s\n",
      "Epoch 24/50, Train Loss: 3046.2050, Val Loss: 112.1334, Val Error: 10.88%, Test Error: 9.91%, Time: 34.87s\n",
      "Epoch 25/50, Train Loss: 3012.5403, Val Loss: 110.8486, Val Error: 11.10%, Test Error: 10.11%, Time: 35.31s\n",
      "Epoch 26/50, Train Loss: 2980.1444, Val Loss: 109.5924, Val Error: 11.49%, Test Error: 10.03%, Time: 36.00s\n",
      "Epoch 27/50, Train Loss: 2949.2297, Val Loss: 108.3986, Val Error: 11.27%, Test Error: 10.26%, Time: 35.78s\n",
      "Epoch 28/50, Train Loss: 2919.7529, Val Loss: 107.2622, Val Error: 11.62%, Test Error: 10.80%, Time: 34.08s\n",
      "Epoch 29/50, Train Loss: 2891.7080, Val Loss: 106.1990, Val Error: 11.53%, Test Error: 11.00%, Time: 36.90s\n",
      "Epoch 30/50, Train Loss: 2865.6644, Val Loss: 105.1925, Val Error: 11.84%, Test Error: 11.09%, Time: 36.23s\n",
      "Epoch 31/50, Train Loss: 2840.8897, Val Loss: 104.2950, Val Error: 12.66%, Test Error: 11.73%, Time: 36.10s\n",
      "Epoch 32/50, Train Loss: 2817.9923, Val Loss: 103.3893, Val Error: 11.95%, Test Error: 11.36%, Time: 32.97s\n",
      "Epoch 33/50, Train Loss: 2796.3067, Val Loss: 102.5839, Val Error: 12.44%, Test Error: 11.73%, Time: 37.08s\n",
      "Epoch 34/50, Train Loss: 2776.6463, Val Loss: 101.8494, Val Error: 12.17%, Test Error: 11.53%, Time: 35.73s\n",
      "Epoch 35/50, Train Loss: 2758.0155, Val Loss: 101.1377, Val Error: 12.25%, Test Error: 11.84%, Time: 35.82s\n",
      "Epoch 36/50, Train Loss: 2741.0285, Val Loss: 100.4767, Val Error: 12.63%, Test Error: 11.66%, Time: 35.72s\n",
      "Epoch 37/50, Train Loss: 2725.2134, Val Loss: 99.8956, Val Error: 12.66%, Test Error: 11.57%, Time: 33.83s\n",
      "Epoch 38/50, Train Loss: 2710.5810, Val Loss: 99.3567, Val Error: 13.22%, Test Error: 11.57%, Time: 36.54s\n",
      "Epoch 39/50, Train Loss: 2697.0930, Val Loss: 98.8554, Val Error: 13.18%, Test Error: 11.34%, Time: 34.43s\n",
      "Epoch 40/50, Train Loss: 2684.5642, Val Loss: 98.3746, Val Error: 12.58%, Test Error: 11.75%, Time: 34.45s\n",
      "Epoch 41/50, Train Loss: 2673.1551, Val Loss: 97.9444, Val Error: 13.30%, Test Error: 12.57%, Time: 34.85s\n",
      "Epoch 42/50, Train Loss: 2662.7349, Val Loss: 97.5535, Val Error: 13.58%, Test Error: 12.40%, Time: 36.81s\n",
      "Epoch 43/50, Train Loss: 2652.7791, Val Loss: 97.1750, Val Error: 13.78%, Test Error: 12.69%, Time: 34.06s\n",
      "Epoch 44/50, Train Loss: 2644.1002, Val Loss: 96.8265, Val Error: 13.28%, Test Error: 12.45%, Time: 36.23s\n",
      "Epoch 45/50, Train Loss: 2635.5624, Val Loss: 96.5329, Val Error: 13.67%, Test Error: 12.36%, Time: 34.55s\n",
      "Epoch 46/50, Train Loss: 2627.8243, Val Loss: 96.2488, Val Error: 13.82%, Test Error: 12.55%, Time: 36.55s\n",
      "Epoch 47/50, Train Loss: 2620.8732, Val Loss: 95.9678, Val Error: 12.94%, Test Error: 12.46%, Time: 35.94s\n",
      "Epoch 48/50, Train Loss: 2614.2629, Val Loss: 95.7296, Val Error: 13.13%, Test Error: 11.96%, Time: 34.53s\n",
      "Epoch 49/50, Train Loss: 2608.1708, Val Loss: 95.4871, Val Error: 13.17%, Test Error: 12.66%, Time: 36.74s\n",
      "Epoch 50/50, Train Loss: 2602.5028, Val Loss: 95.2974, Val Error: 13.36%, Test Error: 11.89%, Time: 34.82s\n"
     ]
    },
    {
     "name": "stderr",
     "output_type": "stream",
     "text": [
      "\u001b[34m\u001b[1mwandb\u001b[0m:                                                                                \n",
      "\u001b[34m\u001b[1mwandb\u001b[0m: \n",
      "\u001b[34m\u001b[1mwandb\u001b[0m: Run history:\n",
      "\u001b[34m\u001b[1mwandb\u001b[0m:      epoch ▁▁▁▁▂▂▂▂▂▃▃▃▃▃▃▄▄▄▄▄▅▅▅▅▅▆▆▆▆▆▆▇▇▇▇▇▇███\n",
      "\u001b[34m\u001b[1mwandb\u001b[0m: test_error █▄▂▁▂▁▁▁▁▁▁▁▁▁▁▁▂▁▂▂▂▂▂▂▃▃▃▃▃▃▃▃▃▄▄▃▄▄▃▃\n",
      "\u001b[34m\u001b[1mwandb\u001b[0m: train_loss █▆▅▄▃▂▂▂▂▂▂▂▂▂▂▁▁▁▁▁▁▁▁▁▁▁▁▁▁▁▁▁▁▁▁▁▁▁▁▁\n",
      "\u001b[34m\u001b[1mwandb\u001b[0m:  val_error █▄▂▁▂▁▂▁▁▁▁▁▁▁▁▁▁▁▂▂▂▂▂▂▂▂▃▃▃▃▃▃▄▄▄▄▄▃▃▄\n",
      "\u001b[34m\u001b[1mwandb\u001b[0m:   val_loss █▇▆▄▄▃▂▂▂▂▂▂▂▂▂▂▂▂▂▁▁▁▁▁▁▁▁▁▁▁▁▁▁▁▁▁▁▁▁▁\n",
      "\u001b[34m\u001b[1mwandb\u001b[0m: \n",
      "\u001b[34m\u001b[1mwandb\u001b[0m: Run summary:\n",
      "\u001b[34m\u001b[1mwandb\u001b[0m:      epoch 49\n",
      "\u001b[34m\u001b[1mwandb\u001b[0m: test_error 0.1189\n",
      "\u001b[34m\u001b[1mwandb\u001b[0m: train_loss 2602.50281\n",
      "\u001b[34m\u001b[1mwandb\u001b[0m:  val_error 0.1336\n",
      "\u001b[34m\u001b[1mwandb\u001b[0m:   val_loss 95.29741\n",
      "\u001b[34m\u001b[1mwandb\u001b[0m: \n",
      "\u001b[34m\u001b[1mwandb\u001b[0m: 🚀 View run \u001b[33mmnist\u001b[0m at: \u001b[34m\u001b[4mhttps://wandb.ai/matteo-ghia-2001/asi-paper/runs/z72uirgn\u001b[0m\n",
      "\u001b[34m\u001b[1mwandb\u001b[0m: ⭐️ View project at: \u001b[34m\u001b[4mhttps://wandb.ai/matteo-ghia-2001/asi-paper\u001b[0m\n",
      "\u001b[34m\u001b[1mwandb\u001b[0m: Synced 5 W&B file(s), 0 media file(s), 0 artifact file(s) and 0 other file(s)\n",
      "\u001b[34m\u001b[1mwandb\u001b[0m: Find logs at: \u001b[35m\u001b[1m./wandb/run-20250526_123602-z72uirgn/logs\u001b[0m\n"
     ]
    }
   ],
   "source": [
    "from kaggle_secrets import UserSecretsClient\n",
    "user_secrets = UserSecretsClient()\n",
    "key = user_secrets.get_secret('wand-api-key-asi')\n",
    "\n",
    "wandb.login(key=key)\n",
    "\n",
    "model = train_mnist(train_loader, val_loader, test_loader, epochs=50, lr=1e-3, num_samples=3, pi=0.5, minus_log_sigma1=0, minus_log_sigma2=6, use_wandb=True)\n",
    "torch.save(model.state_dict(), \"mnist_model.pt\")"
   ]
  },
  {
   "cell_type": "code",
   "execution_count": 11,
   "id": "e377bb4f",
   "metadata": {
    "execution": {
     "iopub.execute_input": "2025-05-26T13:05:41.996939Z",
     "iopub.status.busy": "2025-05-26T13:05:41.996384Z",
     "iopub.status.idle": "2025-05-26T13:05:41.999859Z",
     "shell.execute_reply": "2025-05-26T13:05:41.999272Z"
    },
    "papermill": {
     "duration": 0.011692,
     "end_time": "2025-05-26T13:05:42.000928",
     "exception": false,
     "start_time": "2025-05-26T13:05:41.989236",
     "status": "completed"
    },
    "tags": []
   },
   "outputs": [],
   "source": [
    "# model = MNISTModel(prior_sigma_1=np.exp(-1), prior_sigma_2=np.exp(-7), prior_pi=0.75)\n",
    "# model.to(device)\n",
    "# model.load_state_dict(torch.load(\"mnist_model.pt\"))"
   ]
  },
  {
   "cell_type": "markdown",
   "id": "eb9d0709",
   "metadata": {
    "papermill": {
     "duration": 0.006091,
     "end_time": "2025-05-26T13:05:42.013255",
     "exception": false,
     "start_time": "2025-05-26T13:05:42.007164",
     "status": "completed"
    },
    "tags": []
   },
   "source": [
    "# Regression curves"
   ]
  },
  {
   "cell_type": "code",
   "execution_count": 12,
   "id": "88fb5b51",
   "metadata": {
    "execution": {
     "iopub.execute_input": "2025-05-26T13:05:42.026529Z",
     "iopub.status.busy": "2025-05-26T13:05:42.026121Z",
     "iopub.status.idle": "2025-05-26T13:05:42.032495Z",
     "shell.execute_reply": "2025-05-26T13:05:42.031818Z"
    },
    "papermill": {
     "duration": 0.014239,
     "end_time": "2025-05-26T13:05:42.033634",
     "exception": false,
     "start_time": "2025-05-26T13:05:42.019395",
     "status": "completed"
    },
    "tags": []
   },
   "outputs": [],
   "source": [
    "def generate_samples(num_samples):\n",
    "    eps = np.random.normal(0, 0.02, num_samples)\n",
    "    x = np.linspace(0, 0.5, num_samples)\n",
    "    y = x + 0.3 * np.sin(2 * np.pi * (x + eps)) + 0.3 * np.sin(4 * np.pi * (x + eps))\n",
    "    return x, y\n",
    "\n",
    "\n",
    "def save_samples(x, y, filename):\n",
    "    df = pd.DataFrame({'x': x, 'y': y})\n",
    "    df.to_csv(filename, index=False)\n",
    "\n",
    "\n",
    "def load_samples(filename):\n",
    "    df = pd.read_csv(filename)\n",
    "    x = df['x'].values\n",
    "    y = df['y'].values\n",
    "    return x, y\n",
    "\n",
    "\n",
    "def plot_samples(x, y):\n",
    "    plt.figure(figsize=(10, 5))\n",
    "    plt.plot(x, y, 'kx', label='Generated Samples')\n",
    "    plt.title('Generated Samples')\n",
    "    plt.xlabel('x')\n",
    "    plt.ylabel('y')\n",
    "    plt.legend()\n",
    "    plt.show()\n",
    "\n",
    "\n",
    "# x, y = generate_samples(1000)\n",
    "# save_samples(x, y, 'regression_samples.csv')\n",
    "\n",
    "\n",
    "# x, y = load_samples('regression_samples.csv')\n",
    "# plot_samples(x, y)\n",
    "\n",
    "# X_tensor = torch.tensor(x, dtype=torch.float32).view(-1, 1).to(device)\n",
    "# y_tensor = torch.tensor(y, dtype=torch.float32).view(-1, 1).to(device)\n",
    "\n",
    "# train_dataset = torch.utils.data.TensorDataset(X_tensor[:800], y_tensor[:800])\n",
    "# val_dataset = torch.utils.data.TensorDataset(X_tensor[800:], y_tensor[800:])\n",
    "\n",
    "\n",
    "# kwargs = {\n",
    "#     'batch_size': batch_size,\n",
    "#     'generator': generator,\n",
    "# }\n",
    "\n",
    "# train_loader = torch.utils.data.DataLoader(\n",
    "#     train_dataset,\n",
    "#     shuffle=True,\n",
    "#     **kwargs\n",
    "# )\n",
    "# val_loader = torch.utils.data.DataLoader(\n",
    "#     val_dataset,\n",
    "#     shuffle=False,\n",
    "#     **kwargs\n",
    "# )"
   ]
  },
  {
   "cell_type": "code",
   "execution_count": 13,
   "id": "de0bdb22",
   "metadata": {
    "execution": {
     "iopub.execute_input": "2025-05-26T13:05:42.047172Z",
     "iopub.status.busy": "2025-05-26T13:05:42.046762Z",
     "iopub.status.idle": "2025-05-26T13:05:42.051434Z",
     "shell.execute_reply": "2025-05-26T13:05:42.050790Z"
    },
    "papermill": {
     "duration": 0.012495,
     "end_time": "2025-05-26T13:05:42.052411",
     "exception": false,
     "start_time": "2025-05-26T13:05:42.039916",
     "status": "completed"
    },
    "tags": []
   },
   "outputs": [],
   "source": [
    "class RegressionModel(nn.Module):\n",
    "    def __init__(self, in_features=1, out_features=1, prior_sigma_1=0.1, prior_sigma_2=0.4, prior_pi=1):\n",
    "        super().__init__()\n",
    "\n",
    "        self.layers = nn.Sequential(\n",
    "            BayesLinear(\n",
    "                in_features,\n",
    "                200,\n",
    "                prior_pi,\n",
    "                prior_sigma_1,\n",
    "                prior_sigma_2\n",
    "            ),\n",
    "            nn.ReLU(),\n",
    "            BayesLinear(\n",
    "                200,\n",
    "                200,\n",
    "                prior_pi,\n",
    "                prior_sigma_1,\n",
    "                prior_sigma_2\n",
    "            ),\n",
    "            nn.ReLU(),\n",
    "            BayesLinear(\n",
    "                200,\n",
    "                out_features,\n",
    "                prior_pi,\n",
    "                prior_sigma_1,\n",
    "                prior_sigma_2,\n",
    "            ),\n",
    "        )\n",
    "\n",
    "    def forward(self, x):\n",
    "        x = self.layers(x)\n",
    "        return x"
   ]
  },
  {
   "cell_type": "code",
   "execution_count": 14,
   "id": "7d81436f",
   "metadata": {
    "execution": {
     "iopub.execute_input": "2025-05-26T13:05:42.066131Z",
     "iopub.status.busy": "2025-05-26T13:05:42.065957Z",
     "iopub.status.idle": "2025-05-26T13:05:42.072023Z",
     "shell.execute_reply": "2025-05-26T13:05:42.071465Z"
    },
    "papermill": {
     "duration": 0.013837,
     "end_time": "2025-05-26T13:05:42.072964",
     "exception": false,
     "start_time": "2025-05-26T13:05:42.059127",
     "status": "completed"
    },
    "tags": []
   },
   "outputs": [],
   "source": [
    "def evaluate_regression(regressor, X, y, samples=100, std_multiplier=2):\n",
    "    preds = [regressor(X) for _ in range(samples)]\n",
    "    preds = torch.stack(preds)\n",
    "    means = preds.mean(axis=0)\n",
    "    stds = preds.std(axis=0)\n",
    "    ci_upper = means + (std_multiplier * stds)\n",
    "    ci_lower = means - (std_multiplier * stds)\n",
    "    ci_acc = (ci_lower <= y) * (ci_upper >= y)\n",
    "    ci_acc = ci_acc.float().mean()\n",
    "    return ci_acc, (ci_upper >= y).float().mean(), (ci_lower <= y).float().mean()\n",
    "\n",
    "\n",
    "def train_regression(model, train_loader, val_loader, optimizer, criterion, num_epochs, num_samples, use_wandb=False):\n",
    "    for epoch in range(num_epochs):\n",
    "        now = time.time()\n",
    "\n",
    "        train_loss = train_one_epoch(model, train_loader, optimizer, criterion, num_samples)\n",
    "        ci_acc, ci_upper, ci_lower = evaluate_regression(model, val_loader.dataset.tensors[0], val_loader.dataset.tensors[1])\n",
    "\n",
    "        elapsed = time.time() - now\n",
    "\n",
    "        if use_wandb:\n",
    "            wandb.log({\n",
    "                \"epoch\": epoch,\n",
    "                \"train_loss\": train_loss,\n",
    "                \"ci_acc\": ci_acc,\n",
    "                \"ci_upper\": ci_upper,\n",
    "                \"ci_lower\": ci_lower,\n",
    "            })\n",
    "\n",
    "        print(f\"Epoch {epoch + 1}/{num_epochs}, Train Loss: {train_loss:.4f}, CI acc: {ci_acc}, CI upper acc: {ci_upper}, CI lower acc: {ci_lower} Time: {elapsed:.2f}s\")"
   ]
  },
  {
   "cell_type": "code",
   "execution_count": 15,
   "id": "7bd6d69a",
   "metadata": {
    "execution": {
     "iopub.execute_input": "2025-05-26T13:05:42.086071Z",
     "iopub.status.busy": "2025-05-26T13:05:42.085897Z",
     "iopub.status.idle": "2025-05-26T13:05:42.089979Z",
     "shell.execute_reply": "2025-05-26T13:05:42.089464Z"
    },
    "papermill": {
     "duration": 0.011782,
     "end_time": "2025-05-26T13:05:42.091003",
     "exception": false,
     "start_time": "2025-05-26T13:05:42.079221",
     "status": "completed"
    },
    "tags": []
   },
   "outputs": [],
   "source": [
    "def train_regression_model(train_loader, val_loader, epochs, lr, num_samples, pi, minus_log_sigma1, minus_log_sigma2, use_wandb=False):\n",
    "    sigma1 = np.exp(-minus_log_sigma1)\n",
    "    sigma2 = np.exp(-minus_log_sigma2)\n",
    "\n",
    "    model = RegressionModel(1, 1, prior_sigma_1=sigma1, prior_sigma_2=sigma2, prior_pi=pi)\n",
    "    model.to(device)\n",
    "\n",
    "    optimizer = torch.optim.Adam(model.parameters(), lr=lr)\n",
    "    criterion = nn.MSELoss()\n",
    "\n",
    "    # if use_wandb:\n",
    "    #     run = wandb.init(project=\"asi-paper\", name=\"regression\")\n",
    "\n",
    "    train_regression(model, train_loader, val_loader, optimizer, criterion, epochs, num_samples, use_wandb=use_wandb)\n",
    "\n",
    "    # if use_wandb:\n",
    "    #     run.finish()\n",
    "\n",
    "    return model"
   ]
  },
  {
   "cell_type": "code",
   "execution_count": 16,
   "id": "c83ec3b4",
   "metadata": {
    "execution": {
     "iopub.execute_input": "2025-05-26T13:05:42.104110Z",
     "iopub.status.busy": "2025-05-26T13:05:42.103937Z",
     "iopub.status.idle": "2025-05-26T13:05:42.107468Z",
     "shell.execute_reply": "2025-05-26T13:05:42.106817Z"
    },
    "papermill": {
     "duration": 0.011564,
     "end_time": "2025-05-26T13:05:42.108805",
     "exception": false,
     "start_time": "2025-05-26T13:05:42.097241",
     "status": "completed"
    },
    "tags": []
   },
   "outputs": [],
   "source": [
    "# from kaggle_secrets import UserSecretsClient\n",
    "# user_secrets = UserSecretsClient()\n",
    "# key = user_secrets.get_secret('wand-api-key-asi')\n",
    "\n",
    "# wandb.login(key=key)\n",
    "\n",
    "\n",
    "# def train_wrapper():\n",
    "#     with wandb.init(project=\"asi-paper\") as run:\n",
    "#         model = train_regression_model(\n",
    "#             train_loader,\n",
    "#             val_loader,\n",
    "#             epochs=15,\n",
    "#             lr=run.config.lr,\n",
    "#             num_samples=run.config.sample_nbr,\n",
    "#             pi=run.config.pi,\n",
    "#             minus_log_sigma1=run.config.min_log_sigma1,\n",
    "#             minus_log_sigma2=run.config.min_log_sigma2,\n",
    "#             use_wandb=True\n",
    "#         )\n",
    "\n",
    "#     return model\n",
    "\n",
    "\n",
    "# sweep_configuration = {\n",
    "#     \"method\": \"bayes\",\n",
    "#     \"metric\": {\"goal\": \"maximize\", \"name\": \"ci_acc\"},\n",
    "#     'name': \"sweep-regression\",\n",
    "#     \"parameters\": {\n",
    "#         \"lr\": {'min': 1e-5, 'max': 1e-2},\n",
    "#         \"sample_nbr\": {'min': 1, 'max': 10},\n",
    "#         \"pi\": {'min': 0.25, 'max': 0.75},\n",
    "#         \"min_log_sigma1\": {'min': 0, 'max': 2},\n",
    "#         \"min_log_sigma2\": {'min': 6, 'max': 8},\n",
    "#     },\n",
    "# }\n",
    "\n",
    "# sweep_id = wandb.sweep(sweep=sweep_configuration, project=\"asi-paper\")\n",
    "# wandb.agent(sweep_id, function=train_wrapper)"
   ]
  },
  {
   "cell_type": "code",
   "execution_count": 17,
   "id": "dec68ec5",
   "metadata": {
    "execution": {
     "iopub.execute_input": "2025-05-26T13:05:42.122909Z",
     "iopub.status.busy": "2025-05-26T13:05:42.122497Z",
     "iopub.status.idle": "2025-05-26T13:05:42.125649Z",
     "shell.execute_reply": "2025-05-26T13:05:42.124989Z"
    },
    "papermill": {
     "duration": 0.011148,
     "end_time": "2025-05-26T13:05:42.126674",
     "exception": false,
     "start_time": "2025-05-26T13:05:42.115526",
     "status": "completed"
    },
    "tags": []
   },
   "outputs": [],
   "source": [
    "# model = train_regression_model(train_loader, val_loader, epochs=10, lr=1e-3, num_samples=1, pi=0.5, minus_log_sigma1=0.5, minus_log_sigma2=0)"
   ]
  },
  {
   "cell_type": "code",
   "execution_count": 18,
   "id": "dbc67418",
   "metadata": {
    "execution": {
     "iopub.execute_input": "2025-05-26T13:05:42.139789Z",
     "iopub.status.busy": "2025-05-26T13:05:42.139558Z",
     "iopub.status.idle": "2025-05-26T13:05:42.142632Z",
     "shell.execute_reply": "2025-05-26T13:05:42.141970Z"
    },
    "papermill": {
     "duration": 0.010796,
     "end_time": "2025-05-26T13:05:42.143725",
     "exception": false,
     "start_time": "2025-05-26T13:05:42.132929",
     "status": "completed"
    },
    "tags": []
   },
   "outputs": [],
   "source": [
    "# model.eval()\n",
    "# predicted = model(X_tensor).cpu().detach().numpy()\n",
    "\n",
    "# plt.figure(figsize=(10, 5))\n",
    "# plt.plot(x, y, 'kx', label='Generated Samples')\n",
    "# plt.plot(x, predicted, 'r-', label='Predicted Mean')\n",
    "# # plt.fill_between(x, predicted - 2 * np.std(predicted), predicted + 2 * np.std(predicted), color='r', alpha=0.2, label='Uncertainty')\n",
    "# plt.title('Regression with Uncertainty')\n",
    "# plt.xlabel('x')\n",
    "# plt.ylabel('y')\n",
    "# plt.legend()\n",
    "# plt.show()"
   ]
  }
 ],
 "metadata": {
  "kaggle": {
   "accelerator": "gpu",
   "dataSources": [],
   "dockerImageVersionId": 31040,
   "isGpuEnabled": true,
   "isInternetEnabled": true,
   "language": "python",
   "sourceType": "notebook"
  },
  "kernelspec": {
   "display_name": "Python 3",
   "language": "python",
   "name": "python3"
  },
  "language_info": {
   "codemirror_mode": {
    "name": "ipython",
    "version": 3
   },
   "file_extension": ".py",
   "mimetype": "text/x-python",
   "name": "python",
   "nbconvert_exporter": "python",
   "pygments_lexer": "ipython3",
   "version": "3.11.11"
  },
  "papermill": {
   "default_parameters": {},
   "duration": 1802.772371,
   "end_time": "2025-05-26T13:05:44.868862",
   "environment_variables": {},
   "exception": null,
   "input_path": "__notebook__.ipynb",
   "output_path": "__notebook__.ipynb",
   "parameters": {},
   "start_time": "2025-05-26T12:35:42.096491",
   "version": "2.6.0"
  }
 },
 "nbformat": 4,
 "nbformat_minor": 5
}

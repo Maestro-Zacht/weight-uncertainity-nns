{
 "cells": [
  {
   "cell_type": "code",
   "execution_count": 1,
   "id": "98cdecb7",
   "metadata": {
    "execution": {
     "iopub.execute_input": "2025-05-28T14:23:30.537708Z",
     "iopub.status.busy": "2025-05-28T14:23:30.537445Z",
     "iopub.status.idle": "2025-05-28T14:23:43.579386Z",
     "shell.execute_reply": "2025-05-28T14:23:43.578765Z"
    },
    "papermill": {
     "duration": 13.048459,
     "end_time": "2025-05-28T14:23:43.580825",
     "exception": false,
     "start_time": "2025-05-28T14:23:30.532366",
     "status": "completed"
    },
    "tags": []
   },
   "outputs": [],
   "source": [
    "from typing import Optional\n",
    "import torch\n",
    "from torch import nn\n",
    "from torch.nn import functional as F\n",
    "from torchvision import datasets\n",
    "from torchvision.transforms import v2 as transforms\n",
    "import numpy as np\n",
    "import wandb\n",
    "import time\n",
    "import matplotlib.pyplot as plt\n",
    "import pandas as pd"
   ]
  },
  {
   "cell_type": "code",
   "execution_count": 2,
   "id": "7af026f0",
   "metadata": {
    "execution": {
     "iopub.execute_input": "2025-05-28T14:23:43.589206Z",
     "iopub.status.busy": "2025-05-28T14:23:43.588781Z",
     "iopub.status.idle": "2025-05-28T14:23:43.592388Z",
     "shell.execute_reply": "2025-05-28T14:23:43.591881Z"
    },
    "papermill": {
     "duration": 0.008751,
     "end_time": "2025-05-28T14:23:43.593431",
     "exception": false,
     "start_time": "2025-05-28T14:23:43.584680",
     "status": "completed"
    },
    "tags": []
   },
   "outputs": [],
   "source": [
    "generator = torch.Generator().manual_seed(42)\n",
    "np.random.seed(42)"
   ]
  },
  {
   "cell_type": "code",
   "execution_count": 3,
   "id": "f885415e",
   "metadata": {
    "execution": {
     "iopub.execute_input": "2025-05-28T14:23:43.600894Z",
     "iopub.status.busy": "2025-05-28T14:23:43.600363Z",
     "iopub.status.idle": "2025-05-28T14:23:43.660059Z",
     "shell.execute_reply": "2025-05-28T14:23:43.659210Z"
    },
    "papermill": {
     "duration": 0.064538,
     "end_time": "2025-05-28T14:23:43.661196",
     "exception": false,
     "start_time": "2025-05-28T14:23:43.596658",
     "status": "completed"
    },
    "tags": []
   },
   "outputs": [
    {
     "name": "stdout",
     "output_type": "stream",
     "text": [
      "Using device: cuda\n"
     ]
    }
   ],
   "source": [
    "device = torch.device(\"cuda\" if torch.cuda.is_available() else \"cpu\")\n",
    "print(f\"Using device: {device}\")"
   ]
  },
  {
   "cell_type": "code",
   "execution_count": 4,
   "id": "ae4b01c7",
   "metadata": {
    "execution": {
     "iopub.execute_input": "2025-05-28T14:23:43.669161Z",
     "iopub.status.busy": "2025-05-28T14:23:43.668914Z",
     "iopub.status.idle": "2025-05-28T14:23:43.679763Z",
     "shell.execute_reply": "2025-05-28T14:23:43.679098Z"
    },
    "papermill": {
     "duration": 0.016074,
     "end_time": "2025-05-28T14:23:43.680820",
     "exception": false,
     "start_time": "2025-05-28T14:23:43.664746",
     "status": "completed"
    },
    "tags": []
   },
   "outputs": [],
   "source": [
    "\n",
    "class GaussianPosterior(nn.Module):\n",
    "    LOG_SQRT_2PI = 0.5 * np.log(2 * np.pi)\n",
    "\n",
    "    def __init__(self, mu, rho):\n",
    "        super().__init__()\n",
    "\n",
    "        self.mu = nn.Parameter(mu)\n",
    "        self.rho = nn.Parameter(rho)\n",
    "\n",
    "        self.w = None\n",
    "        self.sigma = None\n",
    "\n",
    "        self.normal = torch.distributions.Normal(0, 1)\n",
    "\n",
    "    def sample(self):\n",
    "        epsilon = self.normal.sample(self.mu.size()).to(device)\n",
    "        self.sigma = torch.log1p(torch.exp(self.rho))\n",
    "        self.w = self.mu + self.sigma * epsilon\n",
    "\n",
    "        return self.w\n",
    "\n",
    "    def log_posterior(self):\n",
    "        assert self.w is not None\n",
    "        assert self.sigma is not None\n",
    "\n",
    "        log_posterior = -GaussianPosterior.LOG_SQRT_2PI - torch.log(self.sigma) - ((self.w - self.mu) ** 2) / (2 * self.sigma ** 2)\n",
    "\n",
    "        return log_posterior.sum()\n",
    "\n",
    "\n",
    "class ScaleMixturePrior(nn.Module):\n",
    "\n",
    "    def __init__(self, pi: float, sigma1: float, sigma2: float):\n",
    "        super().__init__()\n",
    "\n",
    "        self.pi = pi\n",
    "        self.normal1 = torch.distributions.Normal(0, sigma1)\n",
    "        self.normal2 = torch.distributions.Normal(0, sigma2)\n",
    "\n",
    "    def log_prior(self, w):\n",
    "        likelihood1 = torch.exp(self.normal1.log_prob(w))\n",
    "        likelihood2 = torch.exp(self.normal2.log_prob(w))\n",
    "\n",
    "        p_mixture = self.pi * likelihood1 + (1 - self.pi) * likelihood2\n",
    "        log_prob = torch.log(p_mixture).sum()\n",
    "\n",
    "        return log_prob\n",
    "\n",
    "\n",
    "class BayesianModule(nn.Module):\n",
    "    pass\n",
    "\n",
    "\n",
    "class BayesLinear(BayesianModule):\n",
    "\n",
    "    def __init__(\n",
    "        self,\n",
    "            in_features: int,\n",
    "            out_features: int,\n",
    "            prior_pi: float,\n",
    "            prior_sigma1: float,\n",
    "            prior_sigma2: float\n",
    "    ):\n",
    "        super().__init__()\n",
    "\n",
    "        w_mu = torch.empty(out_features, in_features).normal_(0.0, 0.01 * (np.log(in_features) + np.log(out_features)), generator=generator)\n",
    "        w_rho = torch.empty(out_features, in_features).normal_(-4.5, 0.001 * (np.log(in_features) + np.log(out_features)))\n",
    "\n",
    "        bias_mu = torch.empty(out_features).normal_(0.0, 0.01 * (np.log(in_features) + np.log(out_features)), generator=generator)\n",
    "        bias_rho = torch.empty(out_features).normal_(-4.5, 0.001 * (np.log(in_features) + np.log(out_features)))\n",
    "\n",
    "        self.w_posterior = GaussianPosterior(w_mu, w_rho)\n",
    "        self.b_posterior = GaussianPosterior(bias_mu, bias_rho)\n",
    "\n",
    "        self.w_prior = ScaleMixturePrior(prior_pi, prior_sigma1, prior_sigma2)\n",
    "        self.b_prior = ScaleMixturePrior(prior_pi, prior_sigma1, prior_sigma2)\n",
    "\n",
    "    def forward(self, x):\n",
    "        w = self.w_posterior.sample()\n",
    "        b = self.b_posterior.sample()\n",
    "\n",
    "        log_prior = self.w_prior.log_prior(w) + self.b_prior.log_prior(b)\n",
    "        log_posterior = self.w_posterior.log_posterior() + self.b_posterior.log_posterior()\n",
    "\n",
    "        self.kl_divergence = log_posterior - log_prior\n",
    "\n",
    "        return F.linear(x, w, b)\n",
    "\n",
    "\n",
    "def minibatch_weight(batch_idx: int, num_batches: int) -> float:\n",
    "    return 1 / num_batches"
   ]
  },
  {
   "cell_type": "markdown",
   "id": "8a8e114e",
   "metadata": {
    "papermill": {
     "duration": 0.003111,
     "end_time": "2025-05-28T14:23:43.687311",
     "exception": false,
     "start_time": "2025-05-28T14:23:43.684200",
     "status": "completed"
    },
    "tags": []
   },
   "source": [
    "# MNIST classification"
   ]
  },
  {
   "cell_type": "code",
   "execution_count": 5,
   "id": "6a80aa02",
   "metadata": {
    "execution": {
     "iopub.execute_input": "2025-05-28T14:23:43.694741Z",
     "iopub.status.busy": "2025-05-28T14:23:43.694240Z",
     "iopub.status.idle": "2025-05-28T14:23:43.700402Z",
     "shell.execute_reply": "2025-05-28T14:23:43.699653Z"
    },
    "papermill": {
     "duration": 0.011024,
     "end_time": "2025-05-28T14:23:43.701551",
     "exception": false,
     "start_time": "2025-05-28T14:23:43.690527",
     "status": "completed"
    },
    "tags": []
   },
   "outputs": [],
   "source": [
    "class MNISTModel(nn.Module):\n",
    "\n",
    "    def __init__(self, in_features=28 * 28, out_features=10, prior_sigma_1=0.1, prior_sigma_2=0.4, prior_pi=1):\n",
    "        super().__init__()\n",
    "\n",
    "        self.layers = nn.Sequential(\n",
    "            BayesLinear(\n",
    "                in_features,\n",
    "                1200,\n",
    "                prior_pi,\n",
    "                prior_sigma_1,\n",
    "                prior_sigma_2\n",
    "            ),\n",
    "            nn.ReLU(),\n",
    "            BayesLinear(\n",
    "                1200,\n",
    "                1200,\n",
    "                prior_pi,\n",
    "                prior_sigma_1,\n",
    "                prior_sigma_2\n",
    "            ),\n",
    "            nn.ReLU(),\n",
    "            BayesLinear(\n",
    "                1200,\n",
    "                out_features,\n",
    "                prior_pi,\n",
    "                prior_sigma_1,\n",
    "                prior_sigma_2,\n",
    "            ),\n",
    "            nn.Softmax(dim=1),\n",
    "        )\n",
    "\n",
    "    def forward(self, x):\n",
    "        x = self.layers(x)\n",
    "        # print(x)\n",
    "        return x\n",
    "\n",
    "    @property\n",
    "    def kl_divergence(self):\n",
    "        kl = 0\n",
    "        for module in self.modules():\n",
    "            if isinstance(module, BayesianModule):\n",
    "                kl += module.kl_divergence\n",
    "\n",
    "        return kl\n",
    "\n",
    "    def sample_elbo(self, inputs, labels, criterion, num_samples, complexity_cost_weight=1):\n",
    "        loss = 0\n",
    "        for _ in range(num_samples):\n",
    "            outputs = self(inputs)\n",
    "            contr1 = criterion(outputs, labels)\n",
    "            contr2 = self.kl_divergence * complexity_cost_weight\n",
    "            # print(f\"contr1: {contr1}, contr2: {contr2}\")\n",
    "            loss += contr1 + contr2\n",
    "        return loss / num_samples"
   ]
  },
  {
   "cell_type": "code",
   "execution_count": 6,
   "id": "4f48fcd7",
   "metadata": {
    "execution": {
     "iopub.execute_input": "2025-05-28T14:23:43.708900Z",
     "iopub.status.busy": "2025-05-28T14:23:43.708546Z",
     "iopub.status.idle": "2025-05-28T14:23:43.717474Z",
     "shell.execute_reply": "2025-05-28T14:23:43.716741Z"
    },
    "papermill": {
     "duration": 0.013687,
     "end_time": "2025-05-28T14:23:43.718483",
     "exception": false,
     "start_time": "2025-05-28T14:23:43.704796",
     "status": "completed"
    },
    "tags": []
   },
   "outputs": [],
   "source": [
    "def train_one_epoch(model, train_loader, optimizer, criterion, num_samples=1):\n",
    "    model.train()\n",
    "\n",
    "    total_loss = 0\n",
    "\n",
    "    for batch_idx, (data, target) in enumerate(train_loader):\n",
    "        data, target = data.to(device), target.to(device)\n",
    "\n",
    "        optimizer.zero_grad()\n",
    "\n",
    "        kl_weight = minibatch_weight(batch_idx, len(train_loader))\n",
    "\n",
    "        loss = model.sample_elbo(data, target, criterion, num_samples, kl_weight)\n",
    "\n",
    "        loss.backward()\n",
    "        optimizer.step()\n",
    "\n",
    "        total_loss += loss.item()\n",
    "\n",
    "    return total_loss / len(train_loader)\n",
    "\n",
    "\n",
    "def evaluate(model, val_loader, criterion):\n",
    "    model.eval()\n",
    "\n",
    "    total_loss = 0\n",
    "    correct = 0\n",
    "\n",
    "    with torch.no_grad():\n",
    "        for batch_idx, (data, target) in enumerate(val_loader):\n",
    "            data, target = data.to(device), target.to(device)\n",
    "\n",
    "            output = model(data)\n",
    "\n",
    "            preds = torch.argmax(output, 1)\n",
    "            correct += (preds == target).sum().item()\n",
    "\n",
    "            loss = (\n",
    "                criterion(output, target) + model.kl_divergence * minibatch_weight(batch_idx, len(val_loader))\n",
    "            )\n",
    "            total_loss += loss.item()\n",
    "\n",
    "    total = len(val_loader.dataset)\n",
    "    return total_loss / total, (total - correct) / total\n",
    "\n",
    "\n",
    "def test(model, test_loader):\n",
    "    model.eval()\n",
    "\n",
    "    correct = 0\n",
    "\n",
    "    with torch.no_grad():\n",
    "        for data, target in test_loader:\n",
    "            data, target = data.to(device), target.to(device)\n",
    "\n",
    "            output = model(data)\n",
    "\n",
    "            preds = torch.argmax(output, 1)\n",
    "            correct += (preds == target).sum().item()\n",
    "\n",
    "    total = len(test_loader.dataset)\n",
    "    error = (total - correct) / total\n",
    "\n",
    "    # print(f\"Correct: {correct}/{total} ({correct / total:.2%})\")\n",
    "    return error\n",
    "\n",
    "\n",
    "def train(model, train_loader, val_loader, test_loader, optimizer, criterion, num_epochs, num_samples, use_wandb=False):\n",
    "    for epoch in range(num_epochs):\n",
    "        now = time.time()\n",
    "\n",
    "        train_loss = train_one_epoch(model, train_loader, optimizer, criterion, num_samples)\n",
    "        val_loss, val_error = evaluate(model, val_loader, criterion)\n",
    "        test_error = test(model, test_loader)\n",
    "\n",
    "        elapsed = time.time() - now\n",
    "\n",
    "        if use_wandb:\n",
    "            wandb.log({\n",
    "                \"epoch\": epoch,\n",
    "                \"train_loss\": train_loss,\n",
    "                \"val_loss\": val_loss,\n",
    "                \"val_error\": val_error,\n",
    "                \"test_error\": test_error\n",
    "            })\n",
    "\n",
    "        print(f\"Epoch {epoch + 1}/{num_epochs}, Train Loss: {train_loss:.4f}, Val Loss: {val_loss:.4f}, Val Error: {val_error:.2%}, Test Error: {test_error:.2%}, Time: {elapsed:.2f}s\")"
   ]
  },
  {
   "cell_type": "code",
   "execution_count": 7,
   "id": "ddb31064",
   "metadata": {
    "execution": {
     "iopub.execute_input": "2025-05-28T14:23:43.725742Z",
     "iopub.status.busy": "2025-05-28T14:23:43.725550Z",
     "iopub.status.idle": "2025-05-28T14:23:43.729941Z",
     "shell.execute_reply": "2025-05-28T14:23:43.729403Z"
    },
    "papermill": {
     "duration": 0.009146,
     "end_time": "2025-05-28T14:23:43.730883",
     "exception": false,
     "start_time": "2025-05-28T14:23:43.721737",
     "status": "completed"
    },
    "tags": []
   },
   "outputs": [],
   "source": [
    "def train_mnist(train_loader, val_loader, test_loader, epochs, lr, num_samples, pi, minus_log_sigma1, minus_log_sigma2, use_wandb=False):\n",
    "    sigma1 = np.exp(-minus_log_sigma1)\n",
    "    sigma2 = np.exp(-minus_log_sigma2)\n",
    "\n",
    "    model = MNISTModel(prior_sigma_1=sigma1, prior_sigma_2=sigma2, prior_pi=pi)\n",
    "    model.to(device)\n",
    "\n",
    "    optimizer = torch.optim.Adam(model.parameters(), lr=lr)\n",
    "    criterion = nn.CrossEntropyLoss(reduction='sum')\n",
    "\n",
    "    if use_wandb:\n",
    "        run = wandb.init(project=\"asi-paper\", name=\"mnist\")\n",
    "\n",
    "    train(model, train_loader, val_loader, test_loader, optimizer, criterion, epochs, num_samples, use_wandb=use_wandb)\n",
    "\n",
    "    if use_wandb:\n",
    "        run.finish()\n",
    "\n",
    "    return model"
   ]
  },
  {
   "cell_type": "code",
   "execution_count": 8,
   "id": "2e623f59",
   "metadata": {
    "execution": {
     "iopub.execute_input": "2025-05-28T14:23:43.737932Z",
     "iopub.status.busy": "2025-05-28T14:23:43.737718Z",
     "iopub.status.idle": "2025-05-28T14:23:47.396941Z",
     "shell.execute_reply": "2025-05-28T14:23:47.395982Z"
    },
    "papermill": {
     "duration": 3.664107,
     "end_time": "2025-05-28T14:23:47.398143",
     "exception": false,
     "start_time": "2025-05-28T14:23:43.734036",
     "status": "completed"
    },
    "tags": []
   },
   "outputs": [
    {
     "name": "stderr",
     "output_type": "stream",
     "text": [
      "100%|██████████| 9.91M/9.91M [00:00<00:00, 19.8MB/s]\n",
      "100%|██████████| 28.9k/28.9k [00:00<00:00, 482kB/s]\n",
      "100%|██████████| 1.65M/1.65M [00:00<00:00, 4.47MB/s]\n",
      "100%|██████████| 4.54k/4.54k [00:00<00:00, 6.58MB/s]\n"
     ]
    }
   ],
   "source": [
    "batch_size = 128\n",
    "transform = transforms.Compose([\n",
    "    transforms.ToImage(),\n",
    "    transforms.ToDtype(torch.float32, scale=True),\n",
    "    transforms.Lambda(lambda x: x.view(28 * 28) / 126.0),\n",
    "])\n",
    "\n",
    "\n",
    "mnist_dataset = datasets.MNIST(\n",
    "    root=\"./mnist\",\n",
    "    download=True,\n",
    "    transform=transform,\n",
    "    train=True\n",
    ")\n",
    "# transformed_data = transform(mnist_dataset.data).to(device)\n",
    "# y = mnist_dataset.targets.to(device)\n",
    "# mnist_dataset = torch.utils.data.TensorDataset(transformed_data, y)\n",
    "\n",
    "test_set = datasets.MNIST(\n",
    "    root=\"./mnist\",\n",
    "    download=True,\n",
    "    transform=transform,\n",
    "    train=False\n",
    ")\n",
    "\n",
    "\n",
    "train_dataset, val_dataset = torch.utils.data.random_split(mnist_dataset, [50_000, 10_000], generator=generator)\n",
    "\n",
    "kwargs = {\n",
    "    'batch_size': batch_size,\n",
    "    'num_workers': 1,\n",
    "    'generator': generator,\n",
    "    'pin_memory': True,\n",
    "}\n",
    "\n",
    "train_loader = torch.utils.data.DataLoader(\n",
    "    train_dataset,\n",
    "    shuffle=True,\n",
    "    **kwargs\n",
    ")\n",
    "val_loader = torch.utils.data.DataLoader(\n",
    "    val_dataset,\n",
    "    shuffle=False,\n",
    "    **kwargs\n",
    ")\n",
    "test_loader = torch.utils.data.DataLoader(\n",
    "    test_set,\n",
    "    shuffle=False,\n",
    "    **kwargs\n",
    ")"
   ]
  },
  {
   "cell_type": "markdown",
   "id": "7b741420",
   "metadata": {
    "papermill": {
     "duration": 0.003876,
     "end_time": "2025-05-28T14:23:47.406987",
     "exception": false,
     "start_time": "2025-05-28T14:23:47.403111",
     "status": "completed"
    },
    "tags": []
   },
   "source": [
    "## Grid search with wandb\n",
    "Uncomment the code below to run a grid search and log the results to wandb."
   ]
  },
  {
   "cell_type": "code",
   "execution_count": 9,
   "id": "a85e023b",
   "metadata": {
    "execution": {
     "iopub.execute_input": "2025-05-28T14:23:47.415755Z",
     "iopub.status.busy": "2025-05-28T14:23:47.415548Z",
     "iopub.status.idle": "2025-05-28T14:23:47.419319Z",
     "shell.execute_reply": "2025-05-28T14:23:47.418620Z"
    },
    "papermill": {
     "duration": 0.009396,
     "end_time": "2025-05-28T14:23:47.420380",
     "exception": false,
     "start_time": "2025-05-28T14:23:47.410984",
     "status": "completed"
    },
    "tags": []
   },
   "outputs": [],
   "source": [
    "# from kaggle_secrets import UserSecretsClient\n",
    "# user_secrets = UserSecretsClient()\n",
    "# key = user_secrets.get_secret('wand-api-key-asi')\n",
    "# sweep_continue = user_secrets.get_secret('asi-mnist-sweep-id')\n",
    "\n",
    "# wandb.login(key=key)\n",
    "\n",
    "\n",
    "# def train_wrapper():\n",
    "#     with wandb.init(project=\"asi-paper\") as run:\n",
    "#         model = train_mnist(\n",
    "#             train_loader,\n",
    "#             val_loader,\n",
    "#             test_loader,\n",
    "#             epochs=10,\n",
    "#             lr=run.config.lr,\n",
    "#             num_samples=run.config.sample_nbr,\n",
    "#             pi=run.config.pi,\n",
    "#             minus_log_sigma1=run.config.min_log_sigma1,\n",
    "#             minus_log_sigma2=run.config.min_log_sigma2,\n",
    "#             use_wandb=True\n",
    "#         )\n",
    "\n",
    "#     return model\n",
    "\n",
    "\n",
    "# # sweep_configuration = {\n",
    "# #     \"method\": \"grid\",\n",
    "# #     \"metric\": {\"goal\": \"minimize\", \"name\": \"val_error\"},\n",
    "# #     'name': \"sweep-mnist\",\n",
    "# #     \"parameters\": {\n",
    "# #         \"lr\": {'values': [1e-3, 1e-4, 1e-5]},\n",
    "# #         \"sample_nbr\": {'values': [1, 2, 3, 5]},\n",
    "# #         \"pi\": {'values': [0.25, 0.5, 0.75]},\n",
    "# #         \"min_log_sigma1\": {'values': [0, 1, 2]},\n",
    "# #         \"min_log_sigma2\": {'values': [6, 7, 8]},\n",
    "# #     },\n",
    "# # }\n",
    "\n",
    "# # sweep_id = wandb.sweep(sweep=sweep_configuration, project=\"asi-paper\")\n",
    "# # print(f\"Sweep ID: {sweep_id}\")\n",
    "# wandb.agent(sweep_continue, function=train_wrapper)"
   ]
  },
  {
   "cell_type": "markdown",
   "id": "2998366a",
   "metadata": {
    "papermill": {
     "duration": 0.004079,
     "end_time": "2025-05-28T14:23:47.428420",
     "exception": false,
     "start_time": "2025-05-28T14:23:47.424341",
     "status": "completed"
    },
    "tags": []
   },
   "source": [
    "## Manual training\n",
    "Uncomment the code below to train the model with specified hyperparameters and save it."
   ]
  },
  {
   "cell_type": "code",
   "execution_count": 10,
   "id": "53228a36",
   "metadata": {
    "execution": {
     "iopub.execute_input": "2025-05-28T14:23:47.437106Z",
     "iopub.status.busy": "2025-05-28T14:23:47.436905Z",
     "iopub.status.idle": "2025-05-28T15:04:06.830789Z",
     "shell.execute_reply": "2025-05-28T15:04:06.829863Z"
    },
    "papermill": {
     "duration": 2419.405348,
     "end_time": "2025-05-28T15:04:06.837812",
     "exception": false,
     "start_time": "2025-05-28T14:23:47.432464",
     "status": "completed"
    },
    "tags": []
   },
   "outputs": [
    {
     "name": "stderr",
     "output_type": "stream",
     "text": [
      "\u001b[34m\u001b[1mwandb\u001b[0m: Using wandb-core as the SDK backend.  Please refer to https://wandb.me/wandb-core for more information.\n",
      "\u001b[34m\u001b[1mwandb\u001b[0m: \u001b[33mWARNING\u001b[0m If you're specifying your api key in code, ensure this code is not shared publicly.\n",
      "\u001b[34m\u001b[1mwandb\u001b[0m: \u001b[33mWARNING\u001b[0m Consider setting the WANDB_API_KEY environment variable, or running `wandb login` from the command line.\n",
      "\u001b[34m\u001b[1mwandb\u001b[0m: No netrc file found, creating one.\n",
      "\u001b[34m\u001b[1mwandb\u001b[0m: Appending key for api.wandb.ai to your netrc file: /root/.netrc\n",
      "\u001b[34m\u001b[1mwandb\u001b[0m: Currently logged in as: \u001b[33mmatteo-ghia\u001b[0m (\u001b[33mmatteo-ghia-2001\u001b[0m) to \u001b[32mhttps://api.wandb.ai\u001b[0m. Use \u001b[1m`wandb login --relogin`\u001b[0m to force relogin\n"
     ]
    },
    {
     "name": "stdout",
     "output_type": "stream",
     "text": [
      "Epoch 1/50, Train Loss: 21296.0912, Val Loss: 694.1079, Val Error: 21.48%, Test Error: 21.90%, Time: 47.86s\n",
      "Epoch 2/50, Train Loss: 16676.8564, Val Loss: 602.6393, Val Error: 18.74%, Test Error: 18.60%, Time: 48.25s\n",
      "Epoch 3/50, Train Loss: 14551.0949, Val Loss: 521.3746, Val Error: 14.63%, Test Error: 13.89%, Time: 49.96s\n",
      "Epoch 4/50, Train Loss: 12478.7911, Val Loss: 442.9739, Val Error: 11.22%, Test Error: 10.54%, Time: 47.78s\n",
      "Epoch 5/50, Train Loss: 10639.7518, Val Loss: 379.4111, Val Error: 10.36%, Test Error: 9.78%, Time: 47.79s\n",
      "Epoch 6/50, Train Loss: 9266.7926, Val Loss: 335.5418, Val Error: 10.34%, Test Error: 9.41%, Time: 48.95s\n",
      "Epoch 7/50, Train Loss: 8360.3782, Val Loss: 307.6474, Val Error: 10.63%, Test Error: 9.75%, Time: 49.45s\n",
      "Epoch 8/50, Train Loss: 7787.7272, Val Loss: 289.9713, Val Error: 10.74%, Test Error: 9.89%, Time: 50.62s\n",
      "Epoch 9/50, Train Loss: 7419.4596, Val Loss: 278.2805, Val Error: 10.58%, Test Error: 9.93%, Time: 48.89s\n",
      "Epoch 10/50, Train Loss: 7169.3869, Val Loss: 270.1166, Val Error: 10.35%, Test Error: 9.83%, Time: 48.34s\n",
      "Epoch 11/50, Train Loss: 6987.3690, Val Loss: 263.8984, Val Error: 10.82%, Test Error: 9.91%, Time: 48.69s\n",
      "Epoch 12/50, Train Loss: 6844.3739, Val Loss: 258.8372, Val Error: 10.85%, Test Error: 9.71%, Time: 49.05s\n",
      "Epoch 13/50, Train Loss: 6725.1447, Val Loss: 254.4859, Val Error: 10.59%, Test Error: 9.57%, Time: 50.23s\n",
      "Epoch 14/50, Train Loss: 6619.5099, Val Loss: 250.5388, Val Error: 10.54%, Test Error: 9.65%, Time: 48.35s\n",
      "Epoch 15/50, Train Loss: 6522.5798, Val Loss: 246.8804, Val Error: 10.51%, Test Error: 9.61%, Time: 48.21s\n",
      "Epoch 16/50, Train Loss: 6431.0145, Val Loss: 243.3638, Val Error: 10.13%, Test Error: 9.36%, Time: 48.95s\n",
      "Epoch 17/50, Train Loss: 6342.5344, Val Loss: 239.9814, Val Error: 10.37%, Test Error: 9.90%, Time: 47.38s\n",
      "Epoch 18/50, Train Loss: 6255.8573, Val Loss: 236.6106, Val Error: 10.55%, Test Error: 9.75%, Time: 49.56s\n",
      "Epoch 19/50, Train Loss: 6170.6582, Val Loss: 233.3151, Val Error: 10.46%, Test Error: 9.70%, Time: 47.90s\n",
      "Epoch 20/50, Train Loss: 6086.5220, Val Loss: 230.0504, Val Error: 10.65%, Test Error: 9.87%, Time: 47.37s\n",
      "Epoch 21/50, Train Loss: 6003.4443, Val Loss: 226.8171, Val Error: 11.15%, Test Error: 10.46%, Time: 45.39s\n",
      "Epoch 22/50, Train Loss: 5921.6698, Val Loss: 223.6539, Val Error: 11.07%, Test Error: 10.15%, Time: 49.28s\n",
      "Epoch 23/50, Train Loss: 5841.4950, Val Loss: 220.5380, Val Error: 10.76%, Test Error: 10.03%, Time: 46.47s\n",
      "Epoch 24/50, Train Loss: 5763.2397, Val Loss: 217.5106, Val Error: 11.21%, Test Error: 10.28%, Time: 49.45s\n",
      "Epoch 25/50, Train Loss: 5687.7599, Val Loss: 214.6330, Val Error: 11.77%, Test Error: 10.69%, Time: 47.50s\n",
      "Epoch 26/50, Train Loss: 5615.2942, Val Loss: 211.8334, Val Error: 12.12%, Test Error: 11.17%, Time: 49.56s\n",
      "Epoch 27/50, Train Loss: 5546.0088, Val Loss: 209.1944, Val Error: 11.96%, Test Error: 11.10%, Time: 47.25s\n",
      "Epoch 28/50, Train Loss: 5479.8744, Val Loss: 206.6739, Val Error: 12.80%, Test Error: 11.76%, Time: 48.81s\n",
      "Epoch 29/50, Train Loss: 5418.0797, Val Loss: 204.3084, Val Error: 12.35%, Test Error: 12.25%, Time: 49.35s\n",
      "Epoch 30/50, Train Loss: 5360.1071, Val Loss: 202.1001, Val Error: 12.47%, Test Error: 12.42%, Time: 49.45s\n",
      "Epoch 31/50, Train Loss: 5305.6548, Val Loss: 200.0529, Val Error: 12.90%, Test Error: 12.05%, Time: 50.70s\n",
      "Epoch 32/50, Train Loss: 5255.2922, Val Loss: 198.1813, Val Error: 12.89%, Test Error: 12.83%, Time: 47.97s\n",
      "Epoch 33/50, Train Loss: 5208.7873, Val Loss: 196.4103, Val Error: 13.38%, Test Error: 12.85%, Time: 48.52s\n",
      "Epoch 34/50, Train Loss: 5165.1826, Val Loss: 194.7624, Val Error: 13.09%, Test Error: 12.70%, Time: 48.51s\n",
      "Epoch 35/50, Train Loss: 5124.8823, Val Loss: 193.2652, Val Error: 14.09%, Test Error: 12.82%, Time: 48.95s\n",
      "Epoch 36/50, Train Loss: 5088.3715, Val Loss: 191.8738, Val Error: 13.19%, Test Error: 12.97%, Time: 48.66s\n",
      "Epoch 37/50, Train Loss: 5054.4908, Val Loss: 190.5757, Val Error: 13.72%, Test Error: 13.18%, Time: 51.62s\n",
      "Epoch 38/50, Train Loss: 5023.2658, Val Loss: 189.4370, Val Error: 13.39%, Test Error: 12.93%, Time: 48.61s\n",
      "Epoch 39/50, Train Loss: 4994.7488, Val Loss: 188.3578, Val Error: 13.32%, Test Error: 13.17%, Time: 47.09s\n",
      "Epoch 40/50, Train Loss: 4968.6432, Val Loss: 187.3838, Val Error: 13.88%, Test Error: 12.69%, Time: 47.40s\n",
      "Epoch 41/50, Train Loss: 4944.6472, Val Loss: 186.4738, Val Error: 13.85%, Test Error: 13.17%, Time: 46.65s\n",
      "Epoch 42/50, Train Loss: 4922.5665, Val Loss: 185.6672, Val Error: 13.74%, Test Error: 12.99%, Time: 46.70s\n",
      "Epoch 43/50, Train Loss: 4902.5587, Val Loss: 184.9343, Val Error: 14.33%, Test Error: 13.50%, Time: 48.17s\n",
      "Epoch 44/50, Train Loss: 4884.4103, Val Loss: 184.2347, Val Error: 13.80%, Test Error: 13.41%, Time: 47.46s\n",
      "Epoch 45/50, Train Loss: 4867.4393, Val Loss: 183.6190, Val Error: 13.78%, Test Error: 13.02%, Time: 48.34s\n",
      "Epoch 46/50, Train Loss: 4851.8963, Val Loss: 183.0489, Val Error: 14.13%, Test Error: 13.30%, Time: 48.48s\n",
      "Epoch 47/50, Train Loss: 4838.1846, Val Loss: 182.5128, Val Error: 14.39%, Test Error: 13.42%, Time: 49.34s\n",
      "Epoch 48/50, Train Loss: 4825.1292, Val Loss: 182.0367, Val Error: 13.96%, Test Error: 13.70%, Time: 45.10s\n",
      "Epoch 49/50, Train Loss: 4813.3107, Val Loss: 181.6023, Val Error: 13.74%, Test Error: 13.06%, Time: 45.97s\n",
      "Epoch 50/50, Train Loss: 4802.3417, Val Loss: 181.1821, Val Error: 13.50%, Test Error: 12.52%, Time: 48.09s\n"
     ]
    }
   ],
   "source": [
    "from kaggle_secrets import UserSecretsClient\n",
    "user_secrets = UserSecretsClient()\n",
    "key = user_secrets.get_secret('wand-api-key-asi')\n",
    "\n",
    "wandb.login(key=key)\n",
    "\n",
    "model = train_mnist(train_loader, val_loader, test_loader, epochs=50, lr=1e-3, num_samples=3, pi=0.5, minus_log_sigma1=0, minus_log_sigma2=6, use_wandb=False)\n",
    "torch.save(model.state_dict(), \"mnist_model.pt\")"
   ]
  },
  {
   "cell_type": "code",
   "execution_count": 11,
   "id": "bf1e11fd",
   "metadata": {
    "execution": {
     "iopub.execute_input": "2025-05-28T15:04:06.851579Z",
     "iopub.status.busy": "2025-05-28T15:04:06.851338Z",
     "iopub.status.idle": "2025-05-28T15:04:06.854729Z",
     "shell.execute_reply": "2025-05-28T15:04:06.854213Z"
    },
    "papermill": {
     "duration": 0.011301,
     "end_time": "2025-05-28T15:04:06.855695",
     "exception": false,
     "start_time": "2025-05-28T15:04:06.844394",
     "status": "completed"
    },
    "tags": []
   },
   "outputs": [],
   "source": [
    "# model = MNISTModel(prior_sigma_1=np.exp(-1), prior_sigma_2=np.exp(-7), prior_pi=0.75)\n",
    "# model.to(device)\n",
    "# model.load_state_dict(torch.load(\"mnist_model.pt\"))"
   ]
  },
  {
   "cell_type": "markdown",
   "id": "af769a45",
   "metadata": {
    "papermill": {
     "duration": 0.005783,
     "end_time": "2025-05-28T15:04:06.867487",
     "exception": false,
     "start_time": "2025-05-28T15:04:06.861704",
     "status": "completed"
    },
    "tags": []
   },
   "source": [
    "# Regression curves"
   ]
  },
  {
   "cell_type": "code",
   "execution_count": 12,
   "id": "16a5d004",
   "metadata": {
    "execution": {
     "iopub.execute_input": "2025-05-28T15:04:06.880053Z",
     "iopub.status.busy": "2025-05-28T15:04:06.879811Z",
     "iopub.status.idle": "2025-05-28T15:04:06.885644Z",
     "shell.execute_reply": "2025-05-28T15:04:06.885154Z"
    },
    "papermill": {
     "duration": 0.013343,
     "end_time": "2025-05-28T15:04:06.886683",
     "exception": false,
     "start_time": "2025-05-28T15:04:06.873340",
     "status": "completed"
    },
    "tags": []
   },
   "outputs": [],
   "source": [
    "def generate_samples(num_samples):\n",
    "    eps = np.random.normal(0, 0.02, num_samples)\n",
    "    x = np.linspace(0, 0.5, num_samples)\n",
    "    y = x + 0.3 * np.sin(2 * np.pi * (x + eps)) + 0.3 * np.sin(4 * np.pi * (x + eps))\n",
    "    return x, y\n",
    "\n",
    "\n",
    "def save_samples(x, y, filename):\n",
    "    df = pd.DataFrame({'x': x, 'y': y})\n",
    "    df.to_csv(filename, index=False)\n",
    "\n",
    "\n",
    "def load_samples(filename):\n",
    "    df = pd.read_csv(filename)\n",
    "    x = df['x'].values\n",
    "    y = df['y'].values\n",
    "    return x, y\n",
    "\n",
    "\n",
    "def plot_samples(x, y):\n",
    "    plt.figure(figsize=(10, 5))\n",
    "    plt.plot(x, y, 'kx', label='Generated Samples')\n",
    "    plt.title('Generated Samples')\n",
    "    plt.xlabel('x')\n",
    "    plt.ylabel('y')\n",
    "    plt.legend()\n",
    "    plt.show()\n",
    "\n",
    "\n",
    "# x, y = generate_samples(1000)\n",
    "# save_samples(x, y, 'regression_samples.csv')\n",
    "\n",
    "\n",
    "# x, y = load_samples('regression_samples.csv')\n",
    "# plot_samples(x, y)\n",
    "\n",
    "# X_tensor = torch.tensor(x, dtype=torch.float32).view(-1, 1).to(device)\n",
    "# y_tensor = torch.tensor(y, dtype=torch.float32).view(-1, 1).to(device)\n",
    "\n",
    "# train_dataset = torch.utils.data.TensorDataset(X_tensor[:800], y_tensor[:800])\n",
    "# val_dataset = torch.utils.data.TensorDataset(X_tensor[800:], y_tensor[800:])\n",
    "\n",
    "\n",
    "# kwargs = {\n",
    "#     'batch_size': batch_size,\n",
    "#     'generator': generator,\n",
    "# }\n",
    "\n",
    "# train_loader = torch.utils.data.DataLoader(\n",
    "#     train_dataset,\n",
    "#     shuffle=True,\n",
    "#     **kwargs\n",
    "# )\n",
    "# val_loader = torch.utils.data.DataLoader(\n",
    "#     val_dataset,\n",
    "#     shuffle=False,\n",
    "#     **kwargs\n",
    "# )"
   ]
  },
  {
   "cell_type": "code",
   "execution_count": 13,
   "id": "3fd99b3f",
   "metadata": {
    "execution": {
     "iopub.execute_input": "2025-05-28T15:04:06.899210Z",
     "iopub.status.busy": "2025-05-28T15:04:06.898996Z",
     "iopub.status.idle": "2025-05-28T15:04:06.903257Z",
     "shell.execute_reply": "2025-05-28T15:04:06.902746Z"
    },
    "papermill": {
     "duration": 0.011757,
     "end_time": "2025-05-28T15:04:06.904268",
     "exception": false,
     "start_time": "2025-05-28T15:04:06.892511",
     "status": "completed"
    },
    "tags": []
   },
   "outputs": [],
   "source": [
    "class RegressionModel(nn.Module):\n",
    "    def __init__(self, in_features=1, out_features=1, prior_sigma_1=0.1, prior_sigma_2=0.4, prior_pi=1):\n",
    "        super().__init__()\n",
    "\n",
    "        self.layers = nn.Sequential(\n",
    "            BayesLinear(\n",
    "                in_features,\n",
    "                200,\n",
    "                prior_pi,\n",
    "                prior_sigma_1,\n",
    "                prior_sigma_2\n",
    "            ),\n",
    "            nn.ReLU(),\n",
    "            BayesLinear(\n",
    "                200,\n",
    "                200,\n",
    "                prior_pi,\n",
    "                prior_sigma_1,\n",
    "                prior_sigma_2\n",
    "            ),\n",
    "            nn.ReLU(),\n",
    "            BayesLinear(\n",
    "                200,\n",
    "                out_features,\n",
    "                prior_pi,\n",
    "                prior_sigma_1,\n",
    "                prior_sigma_2,\n",
    "            ),\n",
    "        )\n",
    "\n",
    "    def forward(self, x):\n",
    "        x = self.layers(x)\n",
    "        return x"
   ]
  },
  {
   "cell_type": "code",
   "execution_count": 14,
   "id": "1a8445fd",
   "metadata": {
    "execution": {
     "iopub.execute_input": "2025-05-28T15:04:06.916943Z",
     "iopub.status.busy": "2025-05-28T15:04:06.916736Z",
     "iopub.status.idle": "2025-05-28T15:04:06.922886Z",
     "shell.execute_reply": "2025-05-28T15:04:06.922349Z"
    },
    "papermill": {
     "duration": 0.013767,
     "end_time": "2025-05-28T15:04:06.923967",
     "exception": false,
     "start_time": "2025-05-28T15:04:06.910200",
     "status": "completed"
    },
    "tags": []
   },
   "outputs": [],
   "source": [
    "def evaluate_regression(regressor, X, y, samples=100, std_multiplier=2):\n",
    "    preds = [regressor(X) for _ in range(samples)]\n",
    "    preds = torch.stack(preds)\n",
    "    means = preds.mean(axis=0)\n",
    "    stds = preds.std(axis=0)\n",
    "    ci_upper = means + (std_multiplier * stds)\n",
    "    ci_lower = means - (std_multiplier * stds)\n",
    "    ci_acc = (ci_lower <= y) * (ci_upper >= y)\n",
    "    ci_acc = ci_acc.float().mean()\n",
    "    return ci_acc, (ci_upper >= y).float().mean(), (ci_lower <= y).float().mean()\n",
    "\n",
    "\n",
    "def train_regression(model, train_loader, val_loader, optimizer, criterion, num_epochs, num_samples, use_wandb=False):\n",
    "    for epoch in range(num_epochs):\n",
    "        now = time.time()\n",
    "\n",
    "        train_loss = train_one_epoch(model, train_loader, optimizer, criterion, num_samples)\n",
    "        ci_acc, ci_upper, ci_lower = evaluate_regression(model, val_loader.dataset.tensors[0], val_loader.dataset.tensors[1])\n",
    "\n",
    "        elapsed = time.time() - now\n",
    "\n",
    "        if use_wandb:\n",
    "            wandb.log({\n",
    "                \"epoch\": epoch,\n",
    "                \"train_loss\": train_loss,\n",
    "                \"ci_acc\": ci_acc,\n",
    "                \"ci_upper\": ci_upper,\n",
    "                \"ci_lower\": ci_lower,\n",
    "            })\n",
    "\n",
    "        print(f\"Epoch {epoch + 1}/{num_epochs}, Train Loss: {train_loss:.4f}, CI acc: {ci_acc}, CI upper acc: {ci_upper}, CI lower acc: {ci_lower} Time: {elapsed:.2f}s\")"
   ]
  },
  {
   "cell_type": "code",
   "execution_count": 15,
   "id": "fcf775c7",
   "metadata": {
    "execution": {
     "iopub.execute_input": "2025-05-28T15:04:06.937051Z",
     "iopub.status.busy": "2025-05-28T15:04:06.936646Z",
     "iopub.status.idle": "2025-05-28T15:04:06.940952Z",
     "shell.execute_reply": "2025-05-28T15:04:06.940408Z"
    },
    "papermill": {
     "duration": 0.011852,
     "end_time": "2025-05-28T15:04:06.941974",
     "exception": false,
     "start_time": "2025-05-28T15:04:06.930122",
     "status": "completed"
    },
    "tags": []
   },
   "outputs": [],
   "source": [
    "def train_regression_model(train_loader, val_loader, epochs, lr, num_samples, pi, minus_log_sigma1, minus_log_sigma2, use_wandb=False):\n",
    "    sigma1 = np.exp(-minus_log_sigma1)\n",
    "    sigma2 = np.exp(-minus_log_sigma2)\n",
    "\n",
    "    model = RegressionModel(1, 1, prior_sigma_1=sigma1, prior_sigma_2=sigma2, prior_pi=pi)\n",
    "    model.to(device)\n",
    "\n",
    "    optimizer = torch.optim.Adam(model.parameters(), lr=lr)\n",
    "    criterion = nn.MSELoss()\n",
    "\n",
    "    # if use_wandb:\n",
    "    #     run = wandb.init(project=\"asi-paper\", name=\"regression\")\n",
    "\n",
    "    train_regression(model, train_loader, val_loader, optimizer, criterion, epochs, num_samples, use_wandb=use_wandb)\n",
    "\n",
    "    # if use_wandb:\n",
    "    #     run.finish()\n",
    "\n",
    "    return model"
   ]
  },
  {
   "cell_type": "code",
   "execution_count": 16,
   "id": "6a32694e",
   "metadata": {
    "execution": {
     "iopub.execute_input": "2025-05-28T15:04:06.954661Z",
     "iopub.status.busy": "2025-05-28T15:04:06.954497Z",
     "iopub.status.idle": "2025-05-28T15:04:06.957581Z",
     "shell.execute_reply": "2025-05-28T15:04:06.957116Z"
    },
    "papermill": {
     "duration": 0.01056,
     "end_time": "2025-05-28T15:04:06.958591",
     "exception": false,
     "start_time": "2025-05-28T15:04:06.948031",
     "status": "completed"
    },
    "tags": []
   },
   "outputs": [],
   "source": [
    "# from kaggle_secrets import UserSecretsClient\n",
    "# user_secrets = UserSecretsClient()\n",
    "# key = user_secrets.get_secret('wand-api-key-asi')\n",
    "\n",
    "# wandb.login(key=key)\n",
    "\n",
    "\n",
    "# def train_wrapper():\n",
    "#     with wandb.init(project=\"asi-paper\") as run:\n",
    "#         model = train_regression_model(\n",
    "#             train_loader,\n",
    "#             val_loader,\n",
    "#             epochs=15,\n",
    "#             lr=run.config.lr,\n",
    "#             num_samples=run.config.sample_nbr,\n",
    "#             pi=run.config.pi,\n",
    "#             minus_log_sigma1=run.config.min_log_sigma1,\n",
    "#             minus_log_sigma2=run.config.min_log_sigma2,\n",
    "#             use_wandb=True\n",
    "#         )\n",
    "\n",
    "#     return model\n",
    "\n",
    "\n",
    "# sweep_configuration = {\n",
    "#     \"method\": \"bayes\",\n",
    "#     \"metric\": {\"goal\": \"maximize\", \"name\": \"ci_acc\"},\n",
    "#     'name': \"sweep-regression\",\n",
    "#     \"parameters\": {\n",
    "#         \"lr\": {'min': 1e-5, 'max': 1e-2},\n",
    "#         \"sample_nbr\": {'min': 1, 'max': 10},\n",
    "#         \"pi\": {'min': 0.25, 'max': 0.75},\n",
    "#         \"min_log_sigma1\": {'min': 0, 'max': 2},\n",
    "#         \"min_log_sigma2\": {'min': 6, 'max': 8},\n",
    "#     },\n",
    "# }\n",
    "\n",
    "# sweep_id = wandb.sweep(sweep=sweep_configuration, project=\"asi-paper\")\n",
    "# wandb.agent(sweep_id, function=train_wrapper)"
   ]
  },
  {
   "cell_type": "code",
   "execution_count": 17,
   "id": "e1c50978",
   "metadata": {
    "execution": {
     "iopub.execute_input": "2025-05-28T15:04:06.971303Z",
     "iopub.status.busy": "2025-05-28T15:04:06.971136Z",
     "iopub.status.idle": "2025-05-28T15:04:06.974217Z",
     "shell.execute_reply": "2025-05-28T15:04:06.973723Z"
    },
    "papermill": {
     "duration": 0.01065,
     "end_time": "2025-05-28T15:04:06.975217",
     "exception": false,
     "start_time": "2025-05-28T15:04:06.964567",
     "status": "completed"
    },
    "tags": []
   },
   "outputs": [],
   "source": [
    "# model = train_regression_model(train_loader, val_loader, epochs=10, lr=1e-3, num_samples=1, pi=0.5, minus_log_sigma1=0.5, minus_log_sigma2=0)"
   ]
  },
  {
   "cell_type": "code",
   "execution_count": 18,
   "id": "1a756f9e",
   "metadata": {
    "execution": {
     "iopub.execute_input": "2025-05-28T15:04:06.987773Z",
     "iopub.status.busy": "2025-05-28T15:04:06.987580Z",
     "iopub.status.idle": "2025-05-28T15:04:06.990345Z",
     "shell.execute_reply": "2025-05-28T15:04:06.989824Z"
    },
    "papermill": {
     "duration": 0.010186,
     "end_time": "2025-05-28T15:04:06.991350",
     "exception": false,
     "start_time": "2025-05-28T15:04:06.981164",
     "status": "completed"
    },
    "tags": []
   },
   "outputs": [],
   "source": [
    "# model.eval()\n",
    "# predicted = model(X_tensor).cpu().detach().numpy()\n",
    "\n",
    "# plt.figure(figsize=(10, 5))\n",
    "# plt.plot(x, y, 'kx', label='Generated Samples')\n",
    "# plt.plot(x, predicted, 'r-', label='Predicted Mean')\n",
    "# # plt.fill_between(x, predicted - 2 * np.std(predicted), predicted + 2 * np.std(predicted), color='r', alpha=0.2, label='Uncertainty')\n",
    "# plt.title('Regression with Uncertainty')\n",
    "# plt.xlabel('x')\n",
    "# plt.ylabel('y')\n",
    "# plt.legend()\n",
    "# plt.show()"
   ]
  }
 ],
 "metadata": {
  "kaggle": {
   "accelerator": "gpu",
   "dataSources": [],
   "dockerImageVersionId": 31040,
   "isGpuEnabled": true,
   "isInternetEnabled": true,
   "language": "python",
   "sourceType": "notebook"
  },
  "kernelspec": {
   "display_name": "aml",
   "language": "python",
   "name": "python3"
  },
  "language_info": {
   "codemirror_mode": {
    "name": "ipython",
    "version": 3
   },
   "file_extension": ".py",
   "mimetype": "text/x-python",
   "name": "python",
   "nbconvert_exporter": "python",
   "pygments_lexer": "ipython3",
   "version": "3.11.11"
  },
  "papermill": {
   "default_parameters": {},
   "duration": 2443.296889,
   "end_time": "2025-05-28T15:04:09.716289",
   "environment_variables": {},
   "exception": null,
   "input_path": "__notebook__.ipynb",
   "output_path": "__notebook__.ipynb",
   "parameters": {},
   "start_time": "2025-05-28T14:23:26.419400",
   "version": "2.6.0"
  }
 },
 "nbformat": 4,
 "nbformat_minor": 5
}
